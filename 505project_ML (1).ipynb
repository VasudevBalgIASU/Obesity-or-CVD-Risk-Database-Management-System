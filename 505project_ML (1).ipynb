{
 "cells": [
  {
   "cell_type": "code",
   "execution_count": 456,
   "id": "411890f0-b73b-4ca2-b491-55eec2f91d5e",
   "metadata": {},
   "outputs": [
    {
     "name": "stdout",
     "output_type": "stream",
     "text": [
      "Requirement already satisfied: kneed in /opt/anaconda3/lib/python3.12/site-packages (0.8.5)\n",
      "Requirement already satisfied: numpy>=1.14.2 in /opt/anaconda3/lib/python3.12/site-packages (from kneed) (1.26.4)\n",
      "Requirement already satisfied: scipy>=1.0.0 in /opt/anaconda3/lib/python3.12/site-packages (from kneed) (1.13.1)\n",
      "Note: you may need to restart the kernel to use updated packages.\n"
     ]
    }
   ],
   "source": [
    "pip install kneed"
   ]
  },
  {
   "cell_type": "code",
   "execution_count": 500,
   "id": "a05c7336-fc68-4d32-863c-ef597911bbb7",
   "metadata": {},
   "outputs": [],
   "source": [
    "import numpy as np \n",
    "import pandas as pd \n",
    "import plotly.express as px \n",
    "import matplotlib.pyplot as plt \n",
    "\n",
    "from sklearn.preprocessing import LabelEncoder\n",
    "from sklearn.preprocessing import OrdinalEncoder\n",
    "from sklearn.metrics import silhouette_score, davies_bouldin_score, calinski_harabasz_score\n",
    "from sklearn.model_selection import train_test_split\n",
    "from sklearn.cluster import KMeans\n",
    "from sklearn.metrics import accuracy_score\n",
    "from sklearn.metrics import confusion_matrix, ConfusionMatrixDisplay, classification_report\n",
    "from sklearn.preprocessing import StandardScaler\n",
    "from sklearn.ensemble import RandomForestClassifier\n",
    "from kneed import KneeLocator\n",
    "from sklearn.model_selection import GridSearchCV\n",
    "\n",
    "import warnings\n",
    "warnings.filterwarnings('ignore')"
   ]
  },
  {
   "cell_type": "code",
   "execution_count": 460,
   "id": "abcdfa70-6a1e-412e-8671-57b46f883c68",
   "metadata": {},
   "outputs": [],
   "source": [
    "df=pd.read_csv(\"Obesity.csv\")"
   ]
  },
  {
   "cell_type": "markdown",
   "id": "33cf355f-da97-4ac9-b7d6-08e0b1b37b5e",
   "metadata": {},
   "source": [
    "## Data Processing"
   ]
  },
  {
   "cell_type": "code",
   "execution_count": 504,
   "id": "2651b87b-f6d5-413e-85e0-9e7ee4aeabbb",
   "metadata": {},
   "outputs": [
    {
     "data": {
      "text/html": [
       "<div>\n",
       "<style scoped>\n",
       "    .dataframe tbody tr th:only-of-type {\n",
       "        vertical-align: middle;\n",
       "    }\n",
       "\n",
       "    .dataframe tbody tr th {\n",
       "        vertical-align: top;\n",
       "    }\n",
       "\n",
       "    .dataframe thead th {\n",
       "        text-align: right;\n",
       "    }\n",
       "</style>\n",
       "<table border=\"1\" class=\"dataframe\">\n",
       "  <thead>\n",
       "    <tr style=\"text-align: right;\">\n",
       "      <th></th>\n",
       "      <th>Gender</th>\n",
       "      <th>Age</th>\n",
       "      <th>Height</th>\n",
       "      <th>Weight</th>\n",
       "      <th>FamilyHistory</th>\n",
       "      <th>FAVC</th>\n",
       "      <th>FCVC</th>\n",
       "      <th>NCP</th>\n",
       "      <th>CAEC</th>\n",
       "      <th>SMOKE</th>\n",
       "      <th>CH2O</th>\n",
       "      <th>SCC</th>\n",
       "      <th>FAF</th>\n",
       "      <th>TUE</th>\n",
       "      <th>CALC</th>\n",
       "      <th>MTRANS</th>\n",
       "      <th>NObeyesdad</th>\n",
       "    </tr>\n",
       "  </thead>\n",
       "  <tbody>\n",
       "    <tr>\n",
       "      <th>0</th>\n",
       "      <td>Female</td>\n",
       "      <td>21.000000</td>\n",
       "      <td>1.620000</td>\n",
       "      <td>64.000000</td>\n",
       "      <td>yes</td>\n",
       "      <td>no</td>\n",
       "      <td>2.0</td>\n",
       "      <td>3.0</td>\n",
       "      <td>Sometimes</td>\n",
       "      <td>no</td>\n",
       "      <td>2.000000</td>\n",
       "      <td>no</td>\n",
       "      <td>0.000000</td>\n",
       "      <td>1.000000</td>\n",
       "      <td>no</td>\n",
       "      <td>Public_Transportation</td>\n",
       "      <td>Normal_Weight</td>\n",
       "    </tr>\n",
       "    <tr>\n",
       "      <th>1</th>\n",
       "      <td>Female</td>\n",
       "      <td>21.000000</td>\n",
       "      <td>1.520000</td>\n",
       "      <td>56.000000</td>\n",
       "      <td>yes</td>\n",
       "      <td>no</td>\n",
       "      <td>3.0</td>\n",
       "      <td>3.0</td>\n",
       "      <td>Sometimes</td>\n",
       "      <td>yes</td>\n",
       "      <td>3.000000</td>\n",
       "      <td>yes</td>\n",
       "      <td>3.000000</td>\n",
       "      <td>0.000000</td>\n",
       "      <td>Sometimes</td>\n",
       "      <td>Public_Transportation</td>\n",
       "      <td>Normal_Weight</td>\n",
       "    </tr>\n",
       "    <tr>\n",
       "      <th>2</th>\n",
       "      <td>Male</td>\n",
       "      <td>23.000000</td>\n",
       "      <td>1.800000</td>\n",
       "      <td>77.000000</td>\n",
       "      <td>yes</td>\n",
       "      <td>no</td>\n",
       "      <td>2.0</td>\n",
       "      <td>3.0</td>\n",
       "      <td>Sometimes</td>\n",
       "      <td>no</td>\n",
       "      <td>2.000000</td>\n",
       "      <td>no</td>\n",
       "      <td>2.000000</td>\n",
       "      <td>1.000000</td>\n",
       "      <td>Frequently</td>\n",
       "      <td>Public_Transportation</td>\n",
       "      <td>Normal_Weight</td>\n",
       "    </tr>\n",
       "    <tr>\n",
       "      <th>3</th>\n",
       "      <td>Male</td>\n",
       "      <td>27.000000</td>\n",
       "      <td>1.800000</td>\n",
       "      <td>87.000000</td>\n",
       "      <td>no</td>\n",
       "      <td>no</td>\n",
       "      <td>3.0</td>\n",
       "      <td>3.0</td>\n",
       "      <td>Sometimes</td>\n",
       "      <td>no</td>\n",
       "      <td>2.000000</td>\n",
       "      <td>no</td>\n",
       "      <td>2.000000</td>\n",
       "      <td>0.000000</td>\n",
       "      <td>Frequently</td>\n",
       "      <td>Walking</td>\n",
       "      <td>Overweight_Level_I</td>\n",
       "    </tr>\n",
       "    <tr>\n",
       "      <th>4</th>\n",
       "      <td>Male</td>\n",
       "      <td>22.000000</td>\n",
       "      <td>1.780000</td>\n",
       "      <td>89.800000</td>\n",
       "      <td>no</td>\n",
       "      <td>no</td>\n",
       "      <td>2.0</td>\n",
       "      <td>1.0</td>\n",
       "      <td>Sometimes</td>\n",
       "      <td>no</td>\n",
       "      <td>2.000000</td>\n",
       "      <td>no</td>\n",
       "      <td>0.000000</td>\n",
       "      <td>0.000000</td>\n",
       "      <td>Sometimes</td>\n",
       "      <td>Public_Transportation</td>\n",
       "      <td>Overweight_Level_II</td>\n",
       "    </tr>\n",
       "    <tr>\n",
       "      <th>...</th>\n",
       "      <td>...</td>\n",
       "      <td>...</td>\n",
       "      <td>...</td>\n",
       "      <td>...</td>\n",
       "      <td>...</td>\n",
       "      <td>...</td>\n",
       "      <td>...</td>\n",
       "      <td>...</td>\n",
       "      <td>...</td>\n",
       "      <td>...</td>\n",
       "      <td>...</td>\n",
       "      <td>...</td>\n",
       "      <td>...</td>\n",
       "      <td>...</td>\n",
       "      <td>...</td>\n",
       "      <td>...</td>\n",
       "      <td>...</td>\n",
       "    </tr>\n",
       "    <tr>\n",
       "      <th>2106</th>\n",
       "      <td>Female</td>\n",
       "      <td>20.976842</td>\n",
       "      <td>1.710730</td>\n",
       "      <td>131.408528</td>\n",
       "      <td>yes</td>\n",
       "      <td>yes</td>\n",
       "      <td>3.0</td>\n",
       "      <td>3.0</td>\n",
       "      <td>Sometimes</td>\n",
       "      <td>no</td>\n",
       "      <td>1.728139</td>\n",
       "      <td>no</td>\n",
       "      <td>1.676269</td>\n",
       "      <td>0.906247</td>\n",
       "      <td>Sometimes</td>\n",
       "      <td>Public_Transportation</td>\n",
       "      <td>Obesity_Type_III</td>\n",
       "    </tr>\n",
       "    <tr>\n",
       "      <th>2107</th>\n",
       "      <td>Female</td>\n",
       "      <td>21.982942</td>\n",
       "      <td>1.748584</td>\n",
       "      <td>133.742943</td>\n",
       "      <td>yes</td>\n",
       "      <td>yes</td>\n",
       "      <td>3.0</td>\n",
       "      <td>3.0</td>\n",
       "      <td>Sometimes</td>\n",
       "      <td>no</td>\n",
       "      <td>2.005130</td>\n",
       "      <td>no</td>\n",
       "      <td>1.341390</td>\n",
       "      <td>0.599270</td>\n",
       "      <td>Sometimes</td>\n",
       "      <td>Public_Transportation</td>\n",
       "      <td>Obesity_Type_III</td>\n",
       "    </tr>\n",
       "    <tr>\n",
       "      <th>2108</th>\n",
       "      <td>Female</td>\n",
       "      <td>22.524036</td>\n",
       "      <td>1.752206</td>\n",
       "      <td>133.689352</td>\n",
       "      <td>yes</td>\n",
       "      <td>yes</td>\n",
       "      <td>3.0</td>\n",
       "      <td>3.0</td>\n",
       "      <td>Sometimes</td>\n",
       "      <td>no</td>\n",
       "      <td>2.054193</td>\n",
       "      <td>no</td>\n",
       "      <td>1.414209</td>\n",
       "      <td>0.646288</td>\n",
       "      <td>Sometimes</td>\n",
       "      <td>Public_Transportation</td>\n",
       "      <td>Obesity_Type_III</td>\n",
       "    </tr>\n",
       "    <tr>\n",
       "      <th>2109</th>\n",
       "      <td>Female</td>\n",
       "      <td>24.361936</td>\n",
       "      <td>1.739450</td>\n",
       "      <td>133.346641</td>\n",
       "      <td>yes</td>\n",
       "      <td>yes</td>\n",
       "      <td>3.0</td>\n",
       "      <td>3.0</td>\n",
       "      <td>Sometimes</td>\n",
       "      <td>no</td>\n",
       "      <td>2.852339</td>\n",
       "      <td>no</td>\n",
       "      <td>1.139107</td>\n",
       "      <td>0.586035</td>\n",
       "      <td>Sometimes</td>\n",
       "      <td>Public_Transportation</td>\n",
       "      <td>Obesity_Type_III</td>\n",
       "    </tr>\n",
       "    <tr>\n",
       "      <th>2110</th>\n",
       "      <td>Female</td>\n",
       "      <td>23.664709</td>\n",
       "      <td>1.738836</td>\n",
       "      <td>133.472641</td>\n",
       "      <td>yes</td>\n",
       "      <td>yes</td>\n",
       "      <td>3.0</td>\n",
       "      <td>3.0</td>\n",
       "      <td>Sometimes</td>\n",
       "      <td>no</td>\n",
       "      <td>2.863513</td>\n",
       "      <td>no</td>\n",
       "      <td>1.026452</td>\n",
       "      <td>0.714137</td>\n",
       "      <td>Sometimes</td>\n",
       "      <td>Public_Transportation</td>\n",
       "      <td>Obesity_Type_III</td>\n",
       "    </tr>\n",
       "  </tbody>\n",
       "</table>\n",
       "<p>2111 rows × 17 columns</p>\n",
       "</div>"
      ],
      "text/plain": [
       "      Gender        Age    Height      Weight FamilyHistory FAVC  FCVC  NCP  \\\n",
       "0     Female  21.000000  1.620000   64.000000           yes   no   2.0  3.0   \n",
       "1     Female  21.000000  1.520000   56.000000           yes   no   3.0  3.0   \n",
       "2       Male  23.000000  1.800000   77.000000           yes   no   2.0  3.0   \n",
       "3       Male  27.000000  1.800000   87.000000            no   no   3.0  3.0   \n",
       "4       Male  22.000000  1.780000   89.800000            no   no   2.0  1.0   \n",
       "...      ...        ...       ...         ...           ...  ...   ...  ...   \n",
       "2106  Female  20.976842  1.710730  131.408528           yes  yes   3.0  3.0   \n",
       "2107  Female  21.982942  1.748584  133.742943           yes  yes   3.0  3.0   \n",
       "2108  Female  22.524036  1.752206  133.689352           yes  yes   3.0  3.0   \n",
       "2109  Female  24.361936  1.739450  133.346641           yes  yes   3.0  3.0   \n",
       "2110  Female  23.664709  1.738836  133.472641           yes  yes   3.0  3.0   \n",
       "\n",
       "           CAEC SMOKE      CH2O  SCC       FAF       TUE        CALC  \\\n",
       "0     Sometimes    no  2.000000   no  0.000000  1.000000          no   \n",
       "1     Sometimes   yes  3.000000  yes  3.000000  0.000000   Sometimes   \n",
       "2     Sometimes    no  2.000000   no  2.000000  1.000000  Frequently   \n",
       "3     Sometimes    no  2.000000   no  2.000000  0.000000  Frequently   \n",
       "4     Sometimes    no  2.000000   no  0.000000  0.000000   Sometimes   \n",
       "...         ...   ...       ...  ...       ...       ...         ...   \n",
       "2106  Sometimes    no  1.728139   no  1.676269  0.906247   Sometimes   \n",
       "2107  Sometimes    no  2.005130   no  1.341390  0.599270   Sometimes   \n",
       "2108  Sometimes    no  2.054193   no  1.414209  0.646288   Sometimes   \n",
       "2109  Sometimes    no  2.852339   no  1.139107  0.586035   Sometimes   \n",
       "2110  Sometimes    no  2.863513   no  1.026452  0.714137   Sometimes   \n",
       "\n",
       "                     MTRANS           NObeyesdad  \n",
       "0     Public_Transportation        Normal_Weight  \n",
       "1     Public_Transportation        Normal_Weight  \n",
       "2     Public_Transportation        Normal_Weight  \n",
       "3                   Walking   Overweight_Level_I  \n",
       "4     Public_Transportation  Overweight_Level_II  \n",
       "...                     ...                  ...  \n",
       "2106  Public_Transportation     Obesity_Type_III  \n",
       "2107  Public_Transportation     Obesity_Type_III  \n",
       "2108  Public_Transportation     Obesity_Type_III  \n",
       "2109  Public_Transportation     Obesity_Type_III  \n",
       "2110  Public_Transportation     Obesity_Type_III  \n",
       "\n",
       "[2111 rows x 17 columns]"
      ]
     },
     "execution_count": 504,
     "metadata": {},
     "output_type": "execute_result"
    }
   ],
   "source": [
    "df"
   ]
  },
  {
   "cell_type": "code",
   "execution_count": 464,
   "id": "5cc3b955-6339-409e-8b3b-4380c26c4a30",
   "metadata": {},
   "outputs": [
    {
     "name": "stdout",
     "output_type": "stream",
     "text": [
      "<class 'pandas.core.frame.DataFrame'>\n",
      "RangeIndex: 2111 entries, 0 to 2110\n",
      "Data columns (total 17 columns):\n",
      " #   Column         Non-Null Count  Dtype  \n",
      "---  ------         --------------  -----  \n",
      " 0   Gender         2111 non-null   object \n",
      " 1   Age            2111 non-null   float64\n",
      " 2   Height         2111 non-null   float64\n",
      " 3   Weight         2111 non-null   float64\n",
      " 4   FamilyHistory  2111 non-null   object \n",
      " 5   FAVC           2111 non-null   object \n",
      " 6   FCVC           2111 non-null   float64\n",
      " 7   NCP            2111 non-null   float64\n",
      " 8   CAEC           2111 non-null   object \n",
      " 9   SMOKE          2111 non-null   object \n",
      " 10  CH2O           2111 non-null   float64\n",
      " 11  SCC            2111 non-null   object \n",
      " 12  FAF            2111 non-null   float64\n",
      " 13  TUE            2111 non-null   float64\n",
      " 14  CALC           2111 non-null   object \n",
      " 15  MTRANS         2111 non-null   object \n",
      " 16  NObeyesdad     2111 non-null   object \n",
      "dtypes: float64(8), object(9)\n",
      "memory usage: 280.5+ KB\n"
     ]
    }
   ],
   "source": [
    "df.info()\n"
   ]
  },
  {
   "cell_type": "code",
   "execution_count": 466,
   "id": "9b08fd7e-2293-4493-bc4d-f2deb5f0cf1f",
   "metadata": {},
   "outputs": [],
   "source": [
    "\n",
    "num_col = df.select_dtypes(include='number').columns\n",
    "cat_col = df.select_dtypes(exclude='number').columns\n",
    "df_work = df.copy()\n",
    "my_label_enc = LabelEncoder()\n",
    "df_work.NObeyesdad = my_label_enc.fit_transform(df_work.NObeyesdad)"
   ]
  },
  {
   "cell_type": "code",
   "execution_count": 502,
   "id": "41d6e910-0730-4167-857b-d213023ff323",
   "metadata": {},
   "outputs": [
    {
     "data": {
      "text/html": [
       "<div>\n",
       "<style scoped>\n",
       "    .dataframe tbody tr th:only-of-type {\n",
       "        vertical-align: middle;\n",
       "    }\n",
       "\n",
       "    .dataframe tbody tr th {\n",
       "        vertical-align: top;\n",
       "    }\n",
       "\n",
       "    .dataframe thead th {\n",
       "        text-align: right;\n",
       "    }\n",
       "</style>\n",
       "<table border=\"1\" class=\"dataframe\">\n",
       "  <thead>\n",
       "    <tr style=\"text-align: right;\">\n",
       "      <th></th>\n",
       "      <th>Gender</th>\n",
       "      <th>Age</th>\n",
       "      <th>Height</th>\n",
       "      <th>Weight</th>\n",
       "      <th>FamilyHistory</th>\n",
       "      <th>FAVC</th>\n",
       "      <th>FCVC</th>\n",
       "      <th>NCP</th>\n",
       "      <th>CAEC</th>\n",
       "      <th>SMOKE</th>\n",
       "      <th>CH2O</th>\n",
       "      <th>SCC</th>\n",
       "      <th>FAF</th>\n",
       "      <th>TUE</th>\n",
       "      <th>CALC</th>\n",
       "      <th>MTRANS</th>\n",
       "      <th>NObeyesdad</th>\n",
       "    </tr>\n",
       "  </thead>\n",
       "  <tbody>\n",
       "    <tr>\n",
       "      <th>0</th>\n",
       "      <td>0.0</td>\n",
       "      <td>21.0</td>\n",
       "      <td>1.62</td>\n",
       "      <td>64.0</td>\n",
       "      <td>1.0</td>\n",
       "      <td>0.0</td>\n",
       "      <td>2.0</td>\n",
       "      <td>3.0</td>\n",
       "      <td>2.0</td>\n",
       "      <td>0.0</td>\n",
       "      <td>2.0</td>\n",
       "      <td>0.0</td>\n",
       "      <td>0.0</td>\n",
       "      <td>1.0</td>\n",
       "      <td>3.0</td>\n",
       "      <td>3.0</td>\n",
       "      <td>1</td>\n",
       "    </tr>\n",
       "    <tr>\n",
       "      <th>1</th>\n",
       "      <td>0.0</td>\n",
       "      <td>21.0</td>\n",
       "      <td>1.52</td>\n",
       "      <td>56.0</td>\n",
       "      <td>1.0</td>\n",
       "      <td>0.0</td>\n",
       "      <td>3.0</td>\n",
       "      <td>3.0</td>\n",
       "      <td>2.0</td>\n",
       "      <td>1.0</td>\n",
       "      <td>3.0</td>\n",
       "      <td>1.0</td>\n",
       "      <td>3.0</td>\n",
       "      <td>0.0</td>\n",
       "      <td>2.0</td>\n",
       "      <td>3.0</td>\n",
       "      <td>1</td>\n",
       "    </tr>\n",
       "    <tr>\n",
       "      <th>2</th>\n",
       "      <td>1.0</td>\n",
       "      <td>23.0</td>\n",
       "      <td>1.80</td>\n",
       "      <td>77.0</td>\n",
       "      <td>1.0</td>\n",
       "      <td>0.0</td>\n",
       "      <td>2.0</td>\n",
       "      <td>3.0</td>\n",
       "      <td>2.0</td>\n",
       "      <td>0.0</td>\n",
       "      <td>2.0</td>\n",
       "      <td>0.0</td>\n",
       "      <td>2.0</td>\n",
       "      <td>1.0</td>\n",
       "      <td>1.0</td>\n",
       "      <td>3.0</td>\n",
       "      <td>1</td>\n",
       "    </tr>\n",
       "    <tr>\n",
       "      <th>3</th>\n",
       "      <td>1.0</td>\n",
       "      <td>27.0</td>\n",
       "      <td>1.80</td>\n",
       "      <td>87.0</td>\n",
       "      <td>0.0</td>\n",
       "      <td>0.0</td>\n",
       "      <td>3.0</td>\n",
       "      <td>3.0</td>\n",
       "      <td>2.0</td>\n",
       "      <td>0.0</td>\n",
       "      <td>2.0</td>\n",
       "      <td>0.0</td>\n",
       "      <td>2.0</td>\n",
       "      <td>0.0</td>\n",
       "      <td>1.0</td>\n",
       "      <td>4.0</td>\n",
       "      <td>5</td>\n",
       "    </tr>\n",
       "    <tr>\n",
       "      <th>4</th>\n",
       "      <td>1.0</td>\n",
       "      <td>22.0</td>\n",
       "      <td>1.78</td>\n",
       "      <td>89.8</td>\n",
       "      <td>0.0</td>\n",
       "      <td>0.0</td>\n",
       "      <td>2.0</td>\n",
       "      <td>1.0</td>\n",
       "      <td>2.0</td>\n",
       "      <td>0.0</td>\n",
       "      <td>2.0</td>\n",
       "      <td>0.0</td>\n",
       "      <td>0.0</td>\n",
       "      <td>0.0</td>\n",
       "      <td>2.0</td>\n",
       "      <td>3.0</td>\n",
       "      <td>6</td>\n",
       "    </tr>\n",
       "  </tbody>\n",
       "</table>\n",
       "</div>"
      ],
      "text/plain": [
       "   Gender   Age  Height  Weight  FamilyHistory  FAVC  FCVC  NCP  CAEC  SMOKE  \\\n",
       "0     0.0  21.0    1.62    64.0            1.0   0.0   2.0  3.0   2.0    0.0   \n",
       "1     0.0  21.0    1.52    56.0            1.0   0.0   3.0  3.0   2.0    1.0   \n",
       "2     1.0  23.0    1.80    77.0            1.0   0.0   2.0  3.0   2.0    0.0   \n",
       "3     1.0  27.0    1.80    87.0            0.0   0.0   3.0  3.0   2.0    0.0   \n",
       "4     1.0  22.0    1.78    89.8            0.0   0.0   2.0  1.0   2.0    0.0   \n",
       "\n",
       "   CH2O  SCC  FAF  TUE  CALC  MTRANS  NObeyesdad  \n",
       "0   2.0  0.0  0.0  1.0   3.0     3.0           1  \n",
       "1   3.0  1.0  3.0  0.0   2.0     3.0           1  \n",
       "2   2.0  0.0  2.0  1.0   1.0     3.0           1  \n",
       "3   2.0  0.0  2.0  0.0   1.0     4.0           5  \n",
       "4   2.0  0.0  0.0  0.0   2.0     3.0           6  "
      ]
     },
     "execution_count": 502,
     "metadata": {},
     "output_type": "execute_result"
    }
   ],
   "source": [
    "labels_2_enc = [element for element in df[cat_col].columns if element != \"NObeyesdad\"]\n",
    "my_ord_enc = OrdinalEncoder()\n",
    "df_work[labels_2_enc] = my_ord_enc.fit_transform(df_work[labels_2_enc])\n",
    "df_work.head()"
   ]
  },
  {
   "cell_type": "code",
   "execution_count": 472,
   "id": "e66c2889-1f41-435a-9599-b2971c004e0e",
   "metadata": {},
   "outputs": [],
   "source": [
    "scaler = StandardScaler()\n",
    "scaler.fit(df_work)\n",
    "data_train_scaled = scaler.transform(df_work)"
   ]
  },
  {
   "cell_type": "markdown",
   "id": "8ba018df-e340-4d9a-9278-c280c5c0f13f",
   "metadata": {},
   "source": [
    "## Kmeans Classifier"
   ]
  },
  {
   "cell_type": "code",
   "execution_count": 474,
   "id": "3265a393-e0eb-4663-a3d1-d3680e6bd5d6",
   "metadata": {},
   "outputs": [
    {
     "name": "stdout",
     "output_type": "stream",
     "text": [
      "Train the model and predict for k=1\n",
      "SSE: 35887.0\n",
      "Train the model and predict for k=2\n",
      "SSE: 31708.11220876097\n",
      "Train the model and predict for k=3\n",
      "SSE: 29385.145094380354\n",
      "Train the model and predict for k=4\n",
      "SSE: 27973.64469774399\n",
      "Train the model and predict for k=5\n",
      "SSE: 26093.12408098834\n",
      "Train the model and predict for k=6\n",
      "SSE: 24723.004344614434\n",
      "Train the model and predict for k=7\n",
      "SSE: 23217.459208528257\n",
      "Train the model and predict for k=8\n",
      "SSE: 23497.80965231088\n",
      "Train the model and predict for k=9\n",
      "SSE: 21245.367086179354\n",
      "Train the model and predict for k=10\n",
      "SSE: 20947.028033934417\n"
     ]
    },
    {
     "data": {
      "image/png": "[encoded data removed]",
      "text/plain": [
       "<Figure size 1000x600 with 1 Axes>"
      ]
     },
     "metadata": {},
     "output_type": "display_data"
    }
   ],
   "source": [
    "sse=[] \n",
    "k_values = range(1, 11)  \n",
    "\n",
    "for k in k_values:\n",
    "    print(f'Train the model and predict for k={k}')\n",
    "    model = KMeans(n_clusters=k)\n",
    "    model.fit(data_train_scaled)\n",
    "\n",
    "    # Calculate sum of squared errors (SSE) for the current k\n",
    "    print('SSE:', model.inertia_)\n",
    "    sse.append(model.inertia_)\n",
    "\n",
    "    \n",
    "knee = KneeLocator(k_values, sse, curve=\"convex\", direction=\"decreasing\")\n",
    "optimal_k = knee.knee\n",
    "\n",
    "\n",
    "\n",
    "plt.figure(figsize=(10, 6))\n",
    "plt.plot(k_values, sse, marker='o')\n",
    "plt.title('Elbow Method')\n",
    "plt.xlabel('Number of clusters k')\n",
    "plt.ylabel('Sum of squared errors (SSE)')\n",
    "plt.axvline(x=optimal_k, color='green', linestyle='--')\n",
    "plt.xticks(range(0, 11))\n",
    "plt.grid(True)\n",
    "plt.show()\n",
    "\n"
   ]
  },
  {
   "cell_type": "code",
   "execution_count": 476,
   "id": "aedb8780-3dfb-4240-8676-58686df74e19",
   "metadata": {},
   "outputs": [
    {
     "name": "stdout",
     "output_type": "stream",
     "text": [
      "For # of clusters = 3\n",
      "ss: 0.14275232124320447\n",
      "dbs: 2.3047607234310443\n",
      "chs: 246.4855968182335\n",
      "\n",
      "\n",
      "For # of clusters = 4\n",
      "ss: 0.15340243958703137\n",
      "dbs: 1.953778616732551\n",
      "chs: 228.92099000903335\n",
      "\n",
      "\n",
      "For # of clusters = 5\n",
      "ss: 0.13371766809174127\n",
      "dbs: 2.0571549640389586\n",
      "chs: 220.89003314390314\n",
      "\n",
      "\n",
      "For # of clusters = 6\n",
      "ss: 0.14439485503583288\n",
      "dbs: 1.8412786487769492\n",
      "chs: 225.49476567523527\n",
      "\n",
      "\n",
      "For # of clusters = 7\n",
      "ss: 0.1389504840473728\n",
      "dbs: 1.8620599372176676\n",
      "chs: 216.97146290208764\n",
      "\n",
      "\n",
      "For # of clusters = 8\n",
      "ss: 0.14972483149826127\n",
      "dbs: 1.8530344331723065\n",
      "chs: 210.46321734333404\n",
      "\n",
      "\n",
      "The optimal value of k is: 5\n"
     ]
    }
   ],
   "source": [
    "\n",
    "for i in range(3,9):\n",
    "    print('For # of clusters = {}'.format(i))\n",
    "    km = KMeans(n_clusters=i, n_init=30, max_iter=300)\n",
    "    y_means = km.fit_predict(data_train_scaled)\n",
    "    labels = km.labels_\n",
    "    silhouette = silhouette_score(data_train_scaled,labels,metric='euclidean')\n",
    "    print('ss:',silhouette)\n",
    "    dbs = davies_bouldin_score(data_train_scaled,labels)\n",
    "    print('dbs:',dbs)\n",
    "    chs = calinski_harabasz_score(data_train_scaled,labels)\n",
    "    print('chs:',chs)\n",
    "    print('\\n')\n",
    "\n",
    "\n",
    "print(f\"The optimal value of k is: {optimal_k}\")\n",
    "\n",
    "model1 =KMeans(n_clusters=optimal_k, n_init=30, max_iter=300)\n",
    "y_train_hat = model1.fit_predict(data_train_scaled)\n",
    "\n"
   ]
  },
  {
   "cell_type": "code",
   "execution_count": 446,
   "id": "c660bee6-e61a-44d3-b5f3-76a7306a36d4",
   "metadata": {},
   "outputs": [
    {
     "data": {
      "text/html": [
       "<div>\n",
       "<style scoped>\n",
       "    .dataframe tbody tr th:only-of-type {\n",
       "        vertical-align: middle;\n",
       "    }\n",
       "\n",
       "    .dataframe tbody tr th {\n",
       "        vertical-align: top;\n",
       "    }\n",
       "\n",
       "    .dataframe thead th {\n",
       "        text-align: right;\n",
       "    }\n",
       "</style>\n",
       "<table border=\"1\" class=\"dataframe\">\n",
       "  <thead>\n",
       "    <tr style=\"text-align: right;\">\n",
       "      <th></th>\n",
       "      <th>Age</th>\n",
       "      <th>Height</th>\n",
       "      <th>Weight</th>\n",
       "      <th>FCVC</th>\n",
       "      <th>NCP</th>\n",
       "      <th>CH2O</th>\n",
       "      <th>FAF</th>\n",
       "      <th>TUE</th>\n",
       "    </tr>\n",
       "  </thead>\n",
       "  <tbody>\n",
       "    <tr>\n",
       "      <th>count</th>\n",
       "      <td>583.000000</td>\n",
       "      <td>583.000000</td>\n",
       "      <td>583.000000</td>\n",
       "      <td>583.000000</td>\n",
       "      <td>583.000000</td>\n",
       "      <td>583.000000</td>\n",
       "      <td>583.000000</td>\n",
       "      <td>583.000000</td>\n",
       "    </tr>\n",
       "    <tr>\n",
       "      <th>mean</th>\n",
       "      <td>22.171869</td>\n",
       "      <td>1.782744</td>\n",
       "      <td>92.287946</td>\n",
       "      <td>2.202778</td>\n",
       "      <td>2.933168</td>\n",
       "      <td>2.173319</td>\n",
       "      <td>1.233237</td>\n",
       "      <td>0.751376</td>\n",
       "    </tr>\n",
       "    <tr>\n",
       "      <th>std</th>\n",
       "      <td>3.422717</td>\n",
       "      <td>0.062960</td>\n",
       "      <td>21.577271</td>\n",
       "      <td>0.467256</td>\n",
       "      <td>0.550897</td>\n",
       "      <td>0.518967</td>\n",
       "      <td>0.814230</td>\n",
       "      <td>0.650913</td>\n",
       "    </tr>\n",
       "    <tr>\n",
       "      <th>min</th>\n",
       "      <td>14.000000</td>\n",
       "      <td>1.605314</td>\n",
       "      <td>50.157707</td>\n",
       "      <td>1.000000</td>\n",
       "      <td>1.000000</td>\n",
       "      <td>1.000000</td>\n",
       "      <td>0.000000</td>\n",
       "      <td>0.000000</td>\n",
       "    </tr>\n",
       "    <tr>\n",
       "      <th>25%</th>\n",
       "      <td>19.459589</td>\n",
       "      <td>1.738583</td>\n",
       "      <td>77.500000</td>\n",
       "      <td>2.000000</td>\n",
       "      <td>2.993628</td>\n",
       "      <td>2.000000</td>\n",
       "      <td>0.748259</td>\n",
       "      <td>0.102041</td>\n",
       "    </tr>\n",
       "    <tr>\n",
       "      <th>50%</th>\n",
       "      <td>22.000000</td>\n",
       "      <td>1.782756</td>\n",
       "      <td>91.000000</td>\n",
       "      <td>2.000000</td>\n",
       "      <td>3.000000</td>\n",
       "      <td>2.027984</td>\n",
       "      <td>1.079934</td>\n",
       "      <td>0.682128</td>\n",
       "    </tr>\n",
       "    <tr>\n",
       "      <th>75%</th>\n",
       "      <td>24.181764</td>\n",
       "      <td>1.827125</td>\n",
       "      <td>112.213422</td>\n",
       "      <td>2.542817</td>\n",
       "      <td>3.000000</td>\n",
       "      <td>2.546184</td>\n",
       "      <td>1.949455</td>\n",
       "      <td>1.123776</td>\n",
       "    </tr>\n",
       "    <tr>\n",
       "      <th>max</th>\n",
       "      <td>33.000000</td>\n",
       "      <td>1.980000</td>\n",
       "      <td>173.000000</td>\n",
       "      <td>3.000000</td>\n",
       "      <td>4.000000</td>\n",
       "      <td>3.000000</td>\n",
       "      <td>3.000000</td>\n",
       "      <td>2.000000</td>\n",
       "    </tr>\n",
       "  </tbody>\n",
       "</table>\n",
       "</div>"
      ],
      "text/plain": [
       "              Age      Height      Weight        FCVC         NCP        CH2O  \\\n",
       "count  583.000000  583.000000  583.000000  583.000000  583.000000  583.000000   \n",
       "mean    22.171869    1.782744   92.287946    2.202778    2.933168    2.173319   \n",
       "std      3.422717    0.062960   21.577271    0.467256    0.550897    0.518967   \n",
       "min     14.000000    1.605314   50.157707    1.000000    1.000000    1.000000   \n",
       "25%     19.459589    1.738583   77.500000    2.000000    2.993628    2.000000   \n",
       "50%     22.000000    1.782756   91.000000    2.000000    3.000000    2.027984   \n",
       "75%     24.181764    1.827125  112.213422    2.542817    3.000000    2.546184   \n",
       "max     33.000000    1.980000  173.000000    3.000000    4.000000    3.000000   \n",
       "\n",
       "              FAF         TUE  \n",
       "count  583.000000  583.000000  \n",
       "mean     1.233237    0.751376  \n",
       "std      0.814230    0.650913  \n",
       "min      0.000000    0.000000  \n",
       "25%      0.748259    0.102041  \n",
       "50%      1.079934    0.682128  \n",
       "75%      1.949455    1.123776  \n",
       "max      3.000000    2.000000  "
      ]
     },
     "metadata": {},
     "output_type": "display_data"
    },
    {
     "data": {
      "text/html": [
       "<div>\n",
       "<style scoped>\n",
       "    .dataframe tbody tr th:only-of-type {\n",
       "        vertical-align: middle;\n",
       "    }\n",
       "\n",
       "    .dataframe tbody tr th {\n",
       "        vertical-align: top;\n",
       "    }\n",
       "\n",
       "    .dataframe thead th {\n",
       "        text-align: right;\n",
       "    }\n",
       "</style>\n",
       "<table border=\"1\" class=\"dataframe\">\n",
       "  <thead>\n",
       "    <tr style=\"text-align: right;\">\n",
       "      <th></th>\n",
       "      <th>Age</th>\n",
       "      <th>Height</th>\n",
       "      <th>Weight</th>\n",
       "      <th>FCVC</th>\n",
       "      <th>NCP</th>\n",
       "      <th>CH2O</th>\n",
       "      <th>FAF</th>\n",
       "      <th>TUE</th>\n",
       "    </tr>\n",
       "  </thead>\n",
       "  <tbody>\n",
       "    <tr>\n",
       "      <th>count</th>\n",
       "      <td>353.000000</td>\n",
       "      <td>353.000000</td>\n",
       "      <td>353.000000</td>\n",
       "      <td>353.000000</td>\n",
       "      <td>353.000000</td>\n",
       "      <td>353.000000</td>\n",
       "      <td>353.000000</td>\n",
       "      <td>353.000000</td>\n",
       "    </tr>\n",
       "    <tr>\n",
       "      <th>mean</th>\n",
       "      <td>23.289207</td>\n",
       "      <td>1.687034</td>\n",
       "      <td>117.028553</td>\n",
       "      <td>2.954634</td>\n",
       "      <td>3.005740</td>\n",
       "      <td>2.204927</td>\n",
       "      <td>0.668826</td>\n",
       "      <td>0.642145</td>\n",
       "    </tr>\n",
       "    <tr>\n",
       "      <th>std</th>\n",
       "      <td>2.845538</td>\n",
       "      <td>0.062900</td>\n",
       "      <td>19.127013</td>\n",
       "      <td>0.192884</td>\n",
       "      <td>0.124144</td>\n",
       "      <td>0.600749</td>\n",
       "      <td>0.711974</td>\n",
       "      <td>0.325017</td>\n",
       "    </tr>\n",
       "    <tr>\n",
       "      <th>min</th>\n",
       "      <td>18.000000</td>\n",
       "      <td>1.568543</td>\n",
       "      <td>54.500000</td>\n",
       "      <td>1.758394</td>\n",
       "      <td>2.106010</td>\n",
       "      <td>1.000000</td>\n",
       "      <td>0.000000</td>\n",
       "      <td>0.000000</td>\n",
       "    </tr>\n",
       "    <tr>\n",
       "      <th>25%</th>\n",
       "      <td>20.978166</td>\n",
       "      <td>1.631547</td>\n",
       "      <td>104.999403</td>\n",
       "      <td>3.000000</td>\n",
       "      <td>3.000000</td>\n",
       "      <td>1.678791</td>\n",
       "      <td>0.000000</td>\n",
       "      <td>0.434073</td>\n",
       "    </tr>\n",
       "    <tr>\n",
       "      <th>50%</th>\n",
       "      <td>24.361936</td>\n",
       "      <td>1.675185</td>\n",
       "      <td>111.922491</td>\n",
       "      <td>3.000000</td>\n",
       "      <td>3.000000</td>\n",
       "      <td>2.417122</td>\n",
       "      <td>0.264831</td>\n",
       "      <td>0.672513</td>\n",
       "    </tr>\n",
       "    <tr>\n",
       "      <th>75%</th>\n",
       "      <td>25.999942</td>\n",
       "      <td>1.741014</td>\n",
       "      <td>133.259033</td>\n",
       "      <td>3.000000</td>\n",
       "      <td>3.000000</td>\n",
       "      <td>2.691584</td>\n",
       "      <td>1.427413</td>\n",
       "      <td>0.881848</td>\n",
       "    </tr>\n",
       "    <tr>\n",
       "      <th>max</th>\n",
       "      <td>27.000000</td>\n",
       "      <td>1.843419</td>\n",
       "      <td>165.057269</td>\n",
       "      <td>3.000000</td>\n",
       "      <td>3.995957</td>\n",
       "      <td>3.000000</td>\n",
       "      <td>1.999897</td>\n",
       "      <td>2.000000</td>\n",
       "    </tr>\n",
       "  </tbody>\n",
       "</table>\n",
       "</div>"
      ],
      "text/plain": [
       "              Age      Height      Weight        FCVC         NCP        CH2O  \\\n",
       "count  353.000000  353.000000  353.000000  353.000000  353.000000  353.000000   \n",
       "mean    23.289207    1.687034  117.028553    2.954634    3.005740    2.204927   \n",
       "std      2.845538    0.062900   19.127013    0.192884    0.124144    0.600749   \n",
       "min     18.000000    1.568543   54.500000    1.758394    2.106010    1.000000   \n",
       "25%     20.978166    1.631547  104.999403    3.000000    3.000000    1.678791   \n",
       "50%     24.361936    1.675185  111.922491    3.000000    3.000000    2.417122   \n",
       "75%     25.999942    1.741014  133.259033    3.000000    3.000000    2.691584   \n",
       "max     27.000000    1.843419  165.057269    3.000000    3.995957    3.000000   \n",
       "\n",
       "              FAF         TUE  \n",
       "count  353.000000  353.000000  \n",
       "mean     0.668826    0.642145  \n",
       "std      0.711974    0.325017  \n",
       "min      0.000000    0.000000  \n",
       "25%      0.000000    0.434073  \n",
       "50%      0.264831    0.672513  \n",
       "75%      1.427413    0.881848  \n",
       "max      1.999897    2.000000  "
      ]
     },
     "metadata": {},
     "output_type": "display_data"
    },
    {
     "data": {
      "text/html": [
       "<div>\n",
       "<style scoped>\n",
       "    .dataframe tbody tr th:only-of-type {\n",
       "        vertical-align: middle;\n",
       "    }\n",
       "\n",
       "    .dataframe tbody tr th {\n",
       "        vertical-align: top;\n",
       "    }\n",
       "\n",
       "    .dataframe thead th {\n",
       "        text-align: right;\n",
       "    }\n",
       "</style>\n",
       "<table border=\"1\" class=\"dataframe\">\n",
       "  <thead>\n",
       "    <tr style=\"text-align: right;\">\n",
       "      <th></th>\n",
       "      <th>Age</th>\n",
       "      <th>Height</th>\n",
       "      <th>Weight</th>\n",
       "      <th>FCVC</th>\n",
       "      <th>NCP</th>\n",
       "      <th>CH2O</th>\n",
       "      <th>FAF</th>\n",
       "      <th>TUE</th>\n",
       "    </tr>\n",
       "  </thead>\n",
       "  <tbody>\n",
       "    <tr>\n",
       "      <th>count</th>\n",
       "      <td>341.000000</td>\n",
       "      <td>341.000000</td>\n",
       "      <td>341.000000</td>\n",
       "      <td>341.000000</td>\n",
       "      <td>341.000000</td>\n",
       "      <td>341.000000</td>\n",
       "      <td>341.000000</td>\n",
       "      <td>341.000000</td>\n",
       "    </tr>\n",
       "    <tr>\n",
       "      <th>mean</th>\n",
       "      <td>20.648052</td>\n",
       "      <td>1.651581</td>\n",
       "      <td>53.933112</td>\n",
       "      <td>2.409407</td>\n",
       "      <td>2.763157</td>\n",
       "      <td>1.718261</td>\n",
       "      <td>1.101702</td>\n",
       "      <td>0.769017</td>\n",
       "    </tr>\n",
       "    <tr>\n",
       "      <th>std</th>\n",
       "      <td>3.887042</td>\n",
       "      <td>0.084862</td>\n",
       "      <td>9.874487</td>\n",
       "      <td>0.609588</td>\n",
       "      <td>0.903380</td>\n",
       "      <td>0.596246</td>\n",
       "      <td>0.924776</td>\n",
       "      <td>0.653334</td>\n",
       "    </tr>\n",
       "    <tr>\n",
       "      <th>min</th>\n",
       "      <td>16.000000</td>\n",
       "      <td>1.500000</td>\n",
       "      <td>39.000000</td>\n",
       "      <td>1.000000</td>\n",
       "      <td>1.000000</td>\n",
       "      <td>1.000000</td>\n",
       "      <td>0.000000</td>\n",
       "      <td>0.000000</td>\n",
       "    </tr>\n",
       "    <tr>\n",
       "      <th>25%</th>\n",
       "      <td>18.006742</td>\n",
       "      <td>1.584951</td>\n",
       "      <td>49.026214</td>\n",
       "      <td>2.000000</td>\n",
       "      <td>3.000000</td>\n",
       "      <td>1.000000</td>\n",
       "      <td>0.107078</td>\n",
       "      <td>0.000000</td>\n",
       "    </tr>\n",
       "    <tr>\n",
       "      <th>50%</th>\n",
       "      <td>20.000000</td>\n",
       "      <td>1.653209</td>\n",
       "      <td>51.154201</td>\n",
       "      <td>2.594653</td>\n",
       "      <td>3.000000</td>\n",
       "      <td>1.995177</td>\n",
       "      <td>1.000000</td>\n",
       "      <td>1.000000</td>\n",
       "    </tr>\n",
       "    <tr>\n",
       "      <th>75%</th>\n",
       "      <td>22.000000</td>\n",
       "      <td>1.710182</td>\n",
       "      <td>60.000000</td>\n",
       "      <td>3.000000</td>\n",
       "      <td>3.000000</td>\n",
       "      <td>2.000000</td>\n",
       "      <td>2.000000</td>\n",
       "      <td>1.000000</td>\n",
       "    </tr>\n",
       "    <tr>\n",
       "      <th>max</th>\n",
       "      <td>61.000000</td>\n",
       "      <td>1.930000</td>\n",
       "      <td>93.000000</td>\n",
       "      <td>3.000000</td>\n",
       "      <td>4.000000</td>\n",
       "      <td>3.000000</td>\n",
       "      <td>3.000000</td>\n",
       "      <td>2.000000</td>\n",
       "    </tr>\n",
       "  </tbody>\n",
       "</table>\n",
       "</div>"
      ],
      "text/plain": [
       "              Age      Height      Weight        FCVC         NCP        CH2O  \\\n",
       "count  341.000000  341.000000  341.000000  341.000000  341.000000  341.000000   \n",
       "mean    20.648052    1.651581   53.933112    2.409407    2.763157    1.718261   \n",
       "std      3.887042    0.084862    9.874487    0.609588    0.903380    0.596246   \n",
       "min     16.000000    1.500000   39.000000    1.000000    1.000000    1.000000   \n",
       "25%     18.006742    1.584951   49.026214    2.000000    3.000000    1.000000   \n",
       "50%     20.000000    1.653209   51.154201    2.594653    3.000000    1.995177   \n",
       "75%     22.000000    1.710182   60.000000    3.000000    3.000000    2.000000   \n",
       "max     61.000000    1.930000   93.000000    3.000000    4.000000    3.000000   \n",
       "\n",
       "              FAF         TUE  \n",
       "count  341.000000  341.000000  \n",
       "mean     1.101702    0.769017  \n",
       "std      0.924776    0.653334  \n",
       "min      0.000000    0.000000  \n",
       "25%      0.107078    0.000000  \n",
       "50%      1.000000    1.000000  \n",
       "75%      2.000000    1.000000  \n",
       "max      3.000000    2.000000  "
      ]
     },
     "metadata": {},
     "output_type": "display_data"
    },
    {
     "data": {
      "text/html": [
       "<div>\n",
       "<style scoped>\n",
       "    .dataframe tbody tr th:only-of-type {\n",
       "        vertical-align: middle;\n",
       "    }\n",
       "\n",
       "    .dataframe tbody tr th {\n",
       "        vertical-align: top;\n",
       "    }\n",
       "\n",
       "    .dataframe thead th {\n",
       "        text-align: right;\n",
       "    }\n",
       "</style>\n",
       "<table border=\"1\" class=\"dataframe\">\n",
       "  <thead>\n",
       "    <tr style=\"text-align: right;\">\n",
       "      <th></th>\n",
       "      <th>Age</th>\n",
       "      <th>Height</th>\n",
       "      <th>Weight</th>\n",
       "      <th>FCVC</th>\n",
       "      <th>NCP</th>\n",
       "      <th>CH2O</th>\n",
       "      <th>FAF</th>\n",
       "      <th>TUE</th>\n",
       "    </tr>\n",
       "  </thead>\n",
       "  <tbody>\n",
       "    <tr>\n",
       "      <th>count</th>\n",
       "      <td>91.000000</td>\n",
       "      <td>91.000000</td>\n",
       "      <td>91.000000</td>\n",
       "      <td>91.000000</td>\n",
       "      <td>91.000000</td>\n",
       "      <td>91.000000</td>\n",
       "      <td>91.000000</td>\n",
       "      <td>91.000000</td>\n",
       "    </tr>\n",
       "    <tr>\n",
       "      <th>mean</th>\n",
       "      <td>20.467392</td>\n",
       "      <td>1.643994</td>\n",
       "      <td>61.900903</td>\n",
       "      <td>2.594475</td>\n",
       "      <td>2.631595</td>\n",
       "      <td>1.999287</td>\n",
       "      <td>1.282949</td>\n",
       "      <td>0.639880</td>\n",
       "    </tr>\n",
       "    <tr>\n",
       "      <th>std</th>\n",
       "      <td>5.020230</td>\n",
       "      <td>0.103436</td>\n",
       "      <td>13.503712</td>\n",
       "      <td>0.527710</td>\n",
       "      <td>0.841244</td>\n",
       "      <td>0.677426</td>\n",
       "      <td>0.946262</td>\n",
       "      <td>0.750190</td>\n",
       "    </tr>\n",
       "    <tr>\n",
       "      <th>min</th>\n",
       "      <td>16.093234</td>\n",
       "      <td>1.450000</td>\n",
       "      <td>42.000000</td>\n",
       "      <td>1.000000</td>\n",
       "      <td>1.000000</td>\n",
       "      <td>1.000000</td>\n",
       "      <td>0.000000</td>\n",
       "      <td>0.000000</td>\n",
       "    </tr>\n",
       "    <tr>\n",
       "      <th>25%</th>\n",
       "      <td>18.000000</td>\n",
       "      <td>1.577454</td>\n",
       "      <td>53.310302</td>\n",
       "      <td>2.000000</td>\n",
       "      <td>2.425532</td>\n",
       "      <td>1.401487</td>\n",
       "      <td>0.543733</td>\n",
       "      <td>0.000000</td>\n",
       "    </tr>\n",
       "    <tr>\n",
       "      <th>50%</th>\n",
       "      <td>19.010211</td>\n",
       "      <td>1.610000</td>\n",
       "      <td>63.856193</td>\n",
       "      <td>2.984004</td>\n",
       "      <td>3.000000</td>\n",
       "      <td>2.000000</td>\n",
       "      <td>1.000000</td>\n",
       "      <td>0.057926</td>\n",
       "    </tr>\n",
       "    <tr>\n",
       "      <th>75%</th>\n",
       "      <td>21.000000</td>\n",
       "      <td>1.705000</td>\n",
       "      <td>67.188356</td>\n",
       "      <td>3.000000</td>\n",
       "      <td>3.000000</td>\n",
       "      <td>2.472250</td>\n",
       "      <td>2.000000</td>\n",
       "      <td>1.111364</td>\n",
       "    </tr>\n",
       "    <tr>\n",
       "      <th>max</th>\n",
       "      <td>55.000000</td>\n",
       "      <td>1.900000</td>\n",
       "      <td>115.000000</td>\n",
       "      <td>3.000000</td>\n",
       "      <td>4.000000</td>\n",
       "      <td>3.000000</td>\n",
       "      <td>3.000000</td>\n",
       "      <td>2.000000</td>\n",
       "    </tr>\n",
       "  </tbody>\n",
       "</table>\n",
       "</div>"
      ],
      "text/plain": [
       "             Age     Height      Weight       FCVC        NCP       CH2O  \\\n",
       "count  91.000000  91.000000   91.000000  91.000000  91.000000  91.000000   \n",
       "mean   20.467392   1.643994   61.900903   2.594475   2.631595   1.999287   \n",
       "std     5.020230   0.103436   13.503712   0.527710   0.841244   0.677426   \n",
       "min    16.093234   1.450000   42.000000   1.000000   1.000000   1.000000   \n",
       "25%    18.000000   1.577454   53.310302   2.000000   2.425532   1.401487   \n",
       "50%    19.010211   1.610000   63.856193   2.984004   3.000000   2.000000   \n",
       "75%    21.000000   1.705000   67.188356   3.000000   3.000000   2.472250   \n",
       "max    55.000000   1.900000  115.000000   3.000000   4.000000   3.000000   \n",
       "\n",
       "             FAF        TUE  \n",
       "count  91.000000  91.000000  \n",
       "mean    1.282949   0.639880  \n",
       "std     0.946262   0.750190  \n",
       "min     0.000000   0.000000  \n",
       "25%     0.543733   0.000000  \n",
       "50%     1.000000   0.057926  \n",
       "75%     2.000000   1.111364  \n",
       "max     3.000000   2.000000  "
      ]
     },
     "metadata": {},
     "output_type": "display_data"
    },
    {
     "data": {
      "text/html": [
       "<div>\n",
       "<style scoped>\n",
       "    .dataframe tbody tr th:only-of-type {\n",
       "        vertical-align: middle;\n",
       "    }\n",
       "\n",
       "    .dataframe tbody tr th {\n",
       "        vertical-align: top;\n",
       "    }\n",
       "\n",
       "    .dataframe thead th {\n",
       "        text-align: right;\n",
       "    }\n",
       "</style>\n",
       "<table border=\"1\" class=\"dataframe\">\n",
       "  <thead>\n",
       "    <tr style=\"text-align: right;\">\n",
       "      <th></th>\n",
       "      <th>Age</th>\n",
       "      <th>Height</th>\n",
       "      <th>Weight</th>\n",
       "      <th>FCVC</th>\n",
       "      <th>NCP</th>\n",
       "      <th>CH2O</th>\n",
       "      <th>FAF</th>\n",
       "      <th>TUE</th>\n",
       "    </tr>\n",
       "  </thead>\n",
       "  <tbody>\n",
       "    <tr>\n",
       "      <th>count</th>\n",
       "      <td>365.000000</td>\n",
       "      <td>365.000000</td>\n",
       "      <td>365.000000</td>\n",
       "      <td>365.000000</td>\n",
       "      <td>365.000000</td>\n",
       "      <td>365.000000</td>\n",
       "      <td>365.000000</td>\n",
       "      <td>365.000000</td>\n",
       "    </tr>\n",
       "    <tr>\n",
       "      <th>mean</th>\n",
       "      <td>34.228167</td>\n",
       "      <td>1.701527</td>\n",
       "      <td>90.899318</td>\n",
       "      <td>2.337025</td>\n",
       "      <td>2.622101</td>\n",
       "      <td>1.933736</td>\n",
       "      <td>0.874197</td>\n",
       "      <td>0.407420</td>\n",
       "    </tr>\n",
       "    <tr>\n",
       "      <th>std</th>\n",
       "      <td>5.814038</td>\n",
       "      <td>0.086411</td>\n",
       "      <td>17.609656</td>\n",
       "      <td>0.453240</td>\n",
       "      <td>0.704315</td>\n",
       "      <td>0.580340</td>\n",
       "      <td>0.815672</td>\n",
       "      <td>0.532770</td>\n",
       "    </tr>\n",
       "    <tr>\n",
       "      <th>min</th>\n",
       "      <td>20.000000</td>\n",
       "      <td>1.500000</td>\n",
       "      <td>51.000000</td>\n",
       "      <td>1.000000</td>\n",
       "      <td>1.000000</td>\n",
       "      <td>1.000000</td>\n",
       "      <td>0.000000</td>\n",
       "      <td>0.000000</td>\n",
       "    </tr>\n",
       "    <tr>\n",
       "      <th>25%</th>\n",
       "      <td>30.188303</td>\n",
       "      <td>1.651812</td>\n",
       "      <td>78.000000</td>\n",
       "      <td>2.000000</td>\n",
       "      <td>2.400943</td>\n",
       "      <td>1.513199</td>\n",
       "      <td>0.000000</td>\n",
       "      <td>0.000000</td>\n",
       "    </tr>\n",
       "    <tr>\n",
       "      <th>50%</th>\n",
       "      <td>34.000000</td>\n",
       "      <td>1.709428</td>\n",
       "      <td>85.000000</td>\n",
       "      <td>2.222282</td>\n",
       "      <td>3.000000</td>\n",
       "      <td>2.000000</td>\n",
       "      <td>0.756277</td>\n",
       "      <td>0.020153</td>\n",
       "    </tr>\n",
       "    <tr>\n",
       "      <th>75%</th>\n",
       "      <td>38.297259</td>\n",
       "      <td>1.765690</td>\n",
       "      <td>109.000000</td>\n",
       "      <td>2.795086</td>\n",
       "      <td>3.000000</td>\n",
       "      <td>2.208068</td>\n",
       "      <td>1.454129</td>\n",
       "      <td>0.785701</td>\n",
       "    </tr>\n",
       "    <tr>\n",
       "      <th>max</th>\n",
       "      <td>55.246250</td>\n",
       "      <td>1.903832</td>\n",
       "      <td>123.721352</td>\n",
       "      <td>3.000000</td>\n",
       "      <td>3.999591</td>\n",
       "      <td>3.000000</td>\n",
       "      <td>3.000000</td>\n",
       "      <td>2.000000</td>\n",
       "    </tr>\n",
       "  </tbody>\n",
       "</table>\n",
       "</div>"
      ],
      "text/plain": [
       "              Age      Height      Weight        FCVC         NCP        CH2O  \\\n",
       "count  365.000000  365.000000  365.000000  365.000000  365.000000  365.000000   \n",
       "mean    34.228167    1.701527   90.899318    2.337025    2.622101    1.933736   \n",
       "std      5.814038    0.086411   17.609656    0.453240    0.704315    0.580340   \n",
       "min     20.000000    1.500000   51.000000    1.000000    1.000000    1.000000   \n",
       "25%     30.188303    1.651812   78.000000    2.000000    2.400943    1.513199   \n",
       "50%     34.000000    1.709428   85.000000    2.222282    3.000000    2.000000   \n",
       "75%     38.297259    1.765690  109.000000    2.795086    3.000000    2.208068   \n",
       "max     55.246250    1.903832  123.721352    3.000000    3.999591    3.000000   \n",
       "\n",
       "              FAF         TUE  \n",
       "count  365.000000  365.000000  \n",
       "mean     0.874197    0.407420  \n",
       "std      0.815672    0.532770  \n",
       "min      0.000000    0.000000  \n",
       "25%      0.000000    0.000000  \n",
       "50%      0.756277    0.020153  \n",
       "75%      1.454129    0.785701  \n",
       "max      3.000000    2.000000  "
      ]
     },
     "metadata": {},
     "output_type": "display_data"
    },
    {
     "data": {
      "text/html": [
       "<div>\n",
       "<style scoped>\n",
       "    .dataframe tbody tr th:only-of-type {\n",
       "        vertical-align: middle;\n",
       "    }\n",
       "\n",
       "    .dataframe tbody tr th {\n",
       "        vertical-align: top;\n",
       "    }\n",
       "\n",
       "    .dataframe thead th {\n",
       "        text-align: right;\n",
       "    }\n",
       "</style>\n",
       "<table border=\"1\" class=\"dataframe\">\n",
       "  <thead>\n",
       "    <tr style=\"text-align: right;\">\n",
       "      <th></th>\n",
       "      <th>Age</th>\n",
       "      <th>Height</th>\n",
       "      <th>Weight</th>\n",
       "      <th>FCVC</th>\n",
       "      <th>NCP</th>\n",
       "      <th>CH2O</th>\n",
       "      <th>FAF</th>\n",
       "      <th>TUE</th>\n",
       "    </tr>\n",
       "  </thead>\n",
       "  <tbody>\n",
       "    <tr>\n",
       "      <th>count</th>\n",
       "      <td>334.000000</td>\n",
       "      <td>334.000000</td>\n",
       "      <td>334.000000</td>\n",
       "      <td>334.000000</td>\n",
       "      <td>334.000000</td>\n",
       "      <td>334.000000</td>\n",
       "      <td>334.000000</td>\n",
       "      <td>334.000000</td>\n",
       "    </tr>\n",
       "    <tr>\n",
       "      <th>mean</th>\n",
       "      <td>22.557041</td>\n",
       "      <td>1.638004</td>\n",
       "      <td>79.199679</td>\n",
       "      <td>2.275247</td>\n",
       "      <td>1.914727</td>\n",
       "      <td>1.908421</td>\n",
       "      <td>0.954568</td>\n",
       "      <td>0.666688</td>\n",
       "    </tr>\n",
       "    <tr>\n",
       "      <th>std</th>\n",
       "      <td>4.135246</td>\n",
       "      <td>0.064389</td>\n",
       "      <td>13.357356</td>\n",
       "      <td>0.499077</td>\n",
       "      <td>0.894613</td>\n",
       "      <td>0.646025</td>\n",
       "      <td>0.830792</td>\n",
       "      <td>0.652056</td>\n",
       "    </tr>\n",
       "    <tr>\n",
       "      <th>min</th>\n",
       "      <td>15.000000</td>\n",
       "      <td>1.481682</td>\n",
       "      <td>42.300000</td>\n",
       "      <td>1.000000</td>\n",
       "      <td>1.000000</td>\n",
       "      <td>1.000000</td>\n",
       "      <td>0.000000</td>\n",
       "      <td>0.000000</td>\n",
       "    </tr>\n",
       "    <tr>\n",
       "      <th>25%</th>\n",
       "      <td>20.003476</td>\n",
       "      <td>1.605763</td>\n",
       "      <td>69.617317</td>\n",
       "      <td>2.000000</td>\n",
       "      <td>1.000000</td>\n",
       "      <td>1.289442</td>\n",
       "      <td>0.181555</td>\n",
       "      <td>0.000000</td>\n",
       "    </tr>\n",
       "    <tr>\n",
       "      <th>50%</th>\n",
       "      <td>21.882200</td>\n",
       "      <td>1.631890</td>\n",
       "      <td>80.000000</td>\n",
       "      <td>2.041626</td>\n",
       "      <td>1.646943</td>\n",
       "      <td>2.000000</td>\n",
       "      <td>0.981996</td>\n",
       "      <td>0.592078</td>\n",
       "    </tr>\n",
       "    <tr>\n",
       "      <th>75%</th>\n",
       "      <td>23.473008</td>\n",
       "      <td>1.679091</td>\n",
       "      <td>84.974435</td>\n",
       "      <td>2.762659</td>\n",
       "      <td>3.000000</td>\n",
       "      <td>2.230951</td>\n",
       "      <td>1.386677</td>\n",
       "      <td>1.054282</td>\n",
       "    </tr>\n",
       "    <tr>\n",
       "      <th>max</th>\n",
       "      <td>40.000000</td>\n",
       "      <td>1.850000</td>\n",
       "      <td>106.509947</td>\n",
       "      <td>3.000000</td>\n",
       "      <td>3.986652</td>\n",
       "      <td>3.000000</td>\n",
       "      <td>3.000000</td>\n",
       "      <td>2.000000</td>\n",
       "    </tr>\n",
       "  </tbody>\n",
       "</table>\n",
       "</div>"
      ],
      "text/plain": [
       "              Age      Height      Weight        FCVC         NCP        CH2O  \\\n",
       "count  334.000000  334.000000  334.000000  334.000000  334.000000  334.000000   \n",
       "mean    22.557041    1.638004   79.199679    2.275247    1.914727    1.908421   \n",
       "std      4.135246    0.064389   13.357356    0.499077    0.894613    0.646025   \n",
       "min     15.000000    1.481682   42.300000    1.000000    1.000000    1.000000   \n",
       "25%     20.003476    1.605763   69.617317    2.000000    1.000000    1.289442   \n",
       "50%     21.882200    1.631890   80.000000    2.041626    1.646943    2.000000   \n",
       "75%     23.473008    1.679091   84.974435    2.762659    3.000000    2.230951   \n",
       "max     40.000000    1.850000  106.509947    3.000000    3.986652    3.000000   \n",
       "\n",
       "              FAF         TUE  \n",
       "count  334.000000  334.000000  \n",
       "mean     0.954568    0.666688  \n",
       "std      0.830792    0.652056  \n",
       "min      0.000000    0.000000  \n",
       "25%      0.181555    0.000000  \n",
       "50%      0.981996    0.592078  \n",
       "75%      1.386677    1.054282  \n",
       "max      3.000000    2.000000  "
      ]
     },
     "metadata": {},
     "output_type": "display_data"
    },
    {
     "data": {
      "text/html": [
       "<div>\n",
       "<style scoped>\n",
       "    .dataframe tbody tr th:only-of-type {\n",
       "        vertical-align: middle;\n",
       "    }\n",
       "\n",
       "    .dataframe tbody tr th {\n",
       "        vertical-align: top;\n",
       "    }\n",
       "\n",
       "    .dataframe thead th {\n",
       "        text-align: right;\n",
       "    }\n",
       "</style>\n",
       "<table border=\"1\" class=\"dataframe\">\n",
       "  <thead>\n",
       "    <tr style=\"text-align: right;\">\n",
       "      <th></th>\n",
       "      <th>Age</th>\n",
       "      <th>Height</th>\n",
       "      <th>Weight</th>\n",
       "      <th>FCVC</th>\n",
       "      <th>NCP</th>\n",
       "      <th>CH2O</th>\n",
       "      <th>FAF</th>\n",
       "      <th>TUE</th>\n",
       "    </tr>\n",
       "  </thead>\n",
       "  <tbody>\n",
       "    <tr>\n",
       "      <th>count</th>\n",
       "      <td>44.000000</td>\n",
       "      <td>44.000000</td>\n",
       "      <td>44.000000</td>\n",
       "      <td>44.000000</td>\n",
       "      <td>44.000000</td>\n",
       "      <td>44.000000</td>\n",
       "      <td>44.000000</td>\n",
       "      <td>44.000000</td>\n",
       "    </tr>\n",
       "    <tr>\n",
       "      <th>mean</th>\n",
       "      <td>28.312669</td>\n",
       "      <td>1.737161</td>\n",
       "      <td>91.206810</td>\n",
       "      <td>2.471433</td>\n",
       "      <td>2.727273</td>\n",
       "      <td>1.873628</td>\n",
       "      <td>1.075671</td>\n",
       "      <td>0.731358</td>\n",
       "    </tr>\n",
       "    <tr>\n",
       "      <th>std</th>\n",
       "      <td>8.779344</td>\n",
       "      <td>0.126161</td>\n",
       "      <td>28.422529</td>\n",
       "      <td>0.514530</td>\n",
       "      <td>0.872410</td>\n",
       "      <td>0.696286</td>\n",
       "      <td>0.851883</td>\n",
       "      <td>0.767598</td>\n",
       "    </tr>\n",
       "    <tr>\n",
       "      <th>min</th>\n",
       "      <td>18.000000</td>\n",
       "      <td>1.480000</td>\n",
       "      <td>49.000000</td>\n",
       "      <td>1.000000</td>\n",
       "      <td>1.000000</td>\n",
       "      <td>1.000000</td>\n",
       "      <td>0.000000</td>\n",
       "      <td>0.000000</td>\n",
       "    </tr>\n",
       "    <tr>\n",
       "      <th>25%</th>\n",
       "      <td>21.000000</td>\n",
       "      <td>1.630000</td>\n",
       "      <td>66.750000</td>\n",
       "      <td>2.000000</td>\n",
       "      <td>3.000000</td>\n",
       "      <td>1.278603</td>\n",
       "      <td>0.637358</td>\n",
       "      <td>0.000000</td>\n",
       "    </tr>\n",
       "    <tr>\n",
       "      <th>50%</th>\n",
       "      <td>26.000000</td>\n",
       "      <td>1.750000</td>\n",
       "      <td>83.500000</td>\n",
       "      <td>2.497908</td>\n",
       "      <td>3.000000</td>\n",
       "      <td>2.000000</td>\n",
       "      <td>1.000000</td>\n",
       "      <td>0.722746</td>\n",
       "    </tr>\n",
       "    <tr>\n",
       "      <th>75%</th>\n",
       "      <td>31.195557</td>\n",
       "      <td>1.852500</td>\n",
       "      <td>125.067664</td>\n",
       "      <td>3.000000</td>\n",
       "      <td>3.000000</td>\n",
       "      <td>2.000000</td>\n",
       "      <td>1.614483</td>\n",
       "      <td>1.202370</td>\n",
       "    </tr>\n",
       "    <tr>\n",
       "      <th>max</th>\n",
       "      <td>56.000000</td>\n",
       "      <td>1.920000</td>\n",
       "      <td>130.000000</td>\n",
       "      <td>3.000000</td>\n",
       "      <td>4.000000</td>\n",
       "      <td>3.000000</td>\n",
       "      <td>3.000000</td>\n",
       "      <td>2.000000</td>\n",
       "    </tr>\n",
       "  </tbody>\n",
       "</table>\n",
       "</div>"
      ],
      "text/plain": [
       "             Age     Height      Weight       FCVC        NCP       CH2O  \\\n",
       "count  44.000000  44.000000   44.000000  44.000000  44.000000  44.000000   \n",
       "mean   28.312669   1.737161   91.206810   2.471433   2.727273   1.873628   \n",
       "std     8.779344   0.126161   28.422529   0.514530   0.872410   0.696286   \n",
       "min    18.000000   1.480000   49.000000   1.000000   1.000000   1.000000   \n",
       "25%    21.000000   1.630000   66.750000   2.000000   3.000000   1.278603   \n",
       "50%    26.000000   1.750000   83.500000   2.497908   3.000000   2.000000   \n",
       "75%    31.195557   1.852500  125.067664   3.000000   3.000000   2.000000   \n",
       "max    56.000000   1.920000  130.000000   3.000000   4.000000   3.000000   \n",
       "\n",
       "             FAF        TUE  \n",
       "count  44.000000  44.000000  \n",
       "mean    1.075671   0.731358  \n",
       "std     0.851883   0.767598  \n",
       "min     0.000000   0.000000  \n",
       "25%     0.637358   0.000000  \n",
       "50%     1.000000   0.722746  \n",
       "75%     1.614483   1.202370  \n",
       "max     3.000000   2.000000  "
      ]
     },
     "metadata": {},
     "output_type": "display_data"
    }
   ],
   "source": [
    "for i in range(0,optimal_k):\n",
    "    display(df[y_train_hat==i].describe())\n",
    "    \n"
   ]
  },
  {
   "cell_type": "markdown",
   "id": "5c21ce2c-70ca-42f4-8483-cb319da8549a",
   "metadata": {},
   "source": [
    "## Random Forest Classifier "
   ]
  },
  {
   "cell_type": "code",
   "execution_count": 496,
   "id": "b24905d6-acd8-4b04-940e-33af3ea4a90c",
   "metadata": {},
   "outputs": [],
   "source": [
    "data = df_work.drop('NObeyesdad', axis=1)  \n",
    "target = df_work['NObeyesdad'] \n",
    "data_train, data_test, target_train, target_test = train_test_split(data, target, test_size=0.2, random_state=33)"
   ]
  },
  {
   "cell_type": "code",
   "execution_count": 511,
   "id": "96dc365f-e865-4a50-8fad-cbb7974c062a",
   "metadata": {},
   "outputs": [
    {
     "name": "stdout",
     "output_type": "stream",
     "text": [
      "Fitting 5 folds for each of 72 candidates, totalling 360 fits\n",
      "Best Parameters: {'criterion': 'gini', 'max_depth': 15, 'max_features': 'sqrt', 'n_estimators': 100}\n",
      "Test Accuracy with Best Model: 0.96%\n",
      "Train Accuracy with Best Model: 1.00%\n"
     ]
    },
    {
     "data": {
      "application/vnd.plotly.v1+json": {
       "config": {
        "plotlyServerURL": "https://plot.ly"
       },
       "data": [
        {
         "alignmentgroup": "True",
         "hovertemplate": "x=%{x}<br>y=%{y}<extra></extra>",
         "legendgroup": "",
         "marker": {
          "color": "#636efa",
          "pattern": {
           "shape": ""
          }
         },
         "name": "",
         "offsetgroup": "",
         "orientation": "h",
         "showlegend": false,
         "textposition": "auto",
         "type": "bar",
         "x": [
          0.05647424551545021,
          0.09342079424912834,
          0.10191901070245833,
          0.3411476551906126,
          0.03023057138813007,
          0.016044870398820646,
          0.09155392136345468,
          0.05150612705376037,
          0.032314482035279306,
          0.001840328935865055,
          0.04276281337956575,
          0.0052006503952331555,
          0.042478954139136244,
          0.04582661028908555,
          0.028502671426172382,
          0.018776293537847464
         ],
         "xaxis": "x",
         "y": [
          "Gender",
          "Age",
          "Height",
          "Weight",
          "FamilyHistory",
          "FAVC",
          "FCVC",
          "NCP",
          "CAEC",
          "SMOKE",
          "CH2O",
          "SCC",
          "FAF",
          "TUE",
          "CALC",
          "MTRANS"
         ],
         "yaxis": "y"
        }
       ],
       "layout": {
        "barmode": "relative",
        "height": 600,
        "legend": {
         "tracegroupgap": 0
        },
        "template": {
         "data": {
          "bar": [
           {
            "error_x": {
             "color": "#2a3f5f"
            },
            "error_y": {
             "color": "#2a3f5f"
            },
            "marker": {
             "line": {
              "color": "#E5ECF6",
              "width": 0.5
             },
             "pattern": {
              "fillmode": "overlay",
              "size": 10,
              "solidity": 0.2
             }
            },
            "type": "bar"
           }
          ],
          "barpolar": [
           {
            "marker": {
             "line": {
              "color": "#E5ECF6",
              "width": 0.5
             },
             "pattern": {
              "fillmode": "overlay",
              "size": 10,
              "solidity": 0.2
             }
            },
            "type": "barpolar"
           }
          ],
          "carpet": [
           {
            "aaxis": {
             "endlinecolor": "#2a3f5f",
             "gridcolor": "white",
             "linecolor": "white",
             "minorgridcolor": "white",
             "startlinecolor": "#2a3f5f"
            },
            "baxis": {
             "endlinecolor": "#2a3f5f",
             "gridcolor": "white",
             "linecolor": "white",
             "minorgridcolor": "white",
             "startlinecolor": "#2a3f5f"
            },
            "type": "carpet"
           }
          ],
          "choropleth": [
           {
            "colorbar": {
             "outlinewidth": 0,
             "ticks": ""
            },
            "type": "choropleth"
           }
          ],
          "contour": [
           {
            "colorbar": {
             "outlinewidth": 0,
             "ticks": ""
            },
            "colorscale": [
             [
              0,
              "#0d0887"
             ],
             [
              0.1111111111111111,
              "#46039f"
             ],
             [
              0.2222222222222222,
              "#7201a8"
             ],
             [
              0.3333333333333333,
              "#9c179e"
             ],
             [
              0.4444444444444444,
              "#bd3786"
             ],
             [
              0.5555555555555556,
              "#d8576b"
             ],
             [
              0.6666666666666666,
              "#ed7953"
             ],
             [
              0.7777777777777778,
              "#fb9f3a"
             ],
             [
              0.8888888888888888,
              "#fdca26"
             ],
             [
              1,
              "#f0f921"
             ]
            ],
            "type": "contour"
           }
          ],
          "contourcarpet": [
           {
            "colorbar": {
             "outlinewidth": 0,
             "ticks": ""
            },
            "type": "contourcarpet"
           }
          ],
          "heatmap": [
           {
            "colorbar": {
             "outlinewidth": 0,
             "ticks": ""
            },
            "colorscale": [
             [
              0,
              "#0d0887"
             ],
             [
              0.1111111111111111,
              "#46039f"
             ],
             [
              0.2222222222222222,
              "#7201a8"
             ],
             [
              0.3333333333333333,
              "#9c179e"
             ],
             [
              0.4444444444444444,
              "#bd3786"
             ],
             [
              0.5555555555555556,
              "#d8576b"
             ],
             [
              0.6666666666666666,
              "#ed7953"
             ],
             [
              0.7777777777777778,
              "#fb9f3a"
             ],
             [
              0.8888888888888888,
              "#fdca26"
             ],
             [
              1,
              "#f0f921"
             ]
            ],
            "type": "heatmap"
           }
          ],
          "heatmapgl": [
           {
            "colorbar": {
             "outlinewidth": 0,
             "ticks": ""
            },
            "colorscale": [
             [
              0,
              "#0d0887"
             ],
             [
              0.1111111111111111,
              "#46039f"
             ],
             [
              0.2222222222222222,
              "#7201a8"
             ],
             [
              0.3333333333333333,
              "#9c179e"
             ],
             [
              0.4444444444444444,
              "#bd3786"
             ],
             [
              0.5555555555555556,
              "#d8576b"
             ],
             [
              0.6666666666666666,
              "#ed7953"
             ],
             [
              0.7777777777777778,
              "#fb9f3a"
             ],
             [
              0.8888888888888888,
              "#fdca26"
             ],
             [
              1,
              "#f0f921"
             ]
            ],
            "type": "heatmapgl"
           }
          ],
          "histogram": [
           {
            "marker": {
             "pattern": {
              "fillmode": "overlay",
              "size": 10,
              "solidity": 0.2
             }
            },
            "type": "histogram"
           }
          ],
          "histogram2d": [
           {
            "colorbar": {
             "outlinewidth": 0,
             "ticks": ""
            },
            "colorscale": [
             [
              0,
              "#0d0887"
             ],
             [
              0.1111111111111111,
              "#46039f"
             ],
             [
              0.2222222222222222,
              "#7201a8"
             ],
             [
              0.3333333333333333,
              "#9c179e"
             ],
             [
              0.4444444444444444,
              "#bd3786"
             ],
             [
              0.5555555555555556,
              "#d8576b"
             ],
             [
              0.6666666666666666,
              "#ed7953"
             ],
             [
              0.7777777777777778,
              "#fb9f3a"
             ],
             [
              0.8888888888888888,
              "#fdca26"
             ],
             [
              1,
              "#f0f921"
             ]
            ],
            "type": "histogram2d"
           }
          ],
          "histogram2dcontour": [
           {
            "colorbar": {
             "outlinewidth": 0,
             "ticks": ""
            },
            "colorscale": [
             [
              0,
              "#0d0887"
             ],
             [
              0.1111111111111111,
              "#46039f"
             ],
             [
              0.2222222222222222,
              "#7201a8"
             ],
             [
              0.3333333333333333,
              "#9c179e"
             ],
             [
              0.4444444444444444,
              "#bd3786"
             ],
             [
              0.5555555555555556,
              "#d8576b"
             ],
             [
              0.6666666666666666,
              "#ed7953"
             ],
             [
              0.7777777777777778,
              "#fb9f3a"
             ],
             [
              0.8888888888888888,
              "#fdca26"
             ],
             [
              1,
              "#f0f921"
             ]
            ],
            "type": "histogram2dcontour"
           }
          ],
          "mesh3d": [
           {
            "colorbar": {
             "outlinewidth": 0,
             "ticks": ""
            },
            "type": "mesh3d"
           }
          ],
          "parcoords": [
           {
            "line": {
             "colorbar": {
              "outlinewidth": 0,
              "ticks": ""
             }
            },
            "type": "parcoords"
           }
          ],
          "pie": [
           {
            "automargin": true,
            "type": "pie"
           }
          ],
          "scatter": [
           {
            "fillpattern": {
             "fillmode": "overlay",
             "size": 10,
             "solidity": 0.2
            },
            "type": "scatter"
           }
          ],
          "scatter3d": [
           {
            "line": {
             "colorbar": {
              "outlinewidth": 0,
              "ticks": ""
             }
            },
            "marker": {
             "colorbar": {
              "outlinewidth": 0,
              "ticks": ""
             }
            },
            "type": "scatter3d"
           }
          ],
          "scattercarpet": [
           {
            "marker": {
             "colorbar": {
              "outlinewidth": 0,
              "ticks": ""
             }
            },
            "type": "scattercarpet"
           }
          ],
          "scattergeo": [
           {
            "marker": {
             "colorbar": {
              "outlinewidth": 0,
              "ticks": ""
             }
            },
            "type": "scattergeo"
           }
          ],
          "scattergl": [
           {
            "marker": {
             "colorbar": {
              "outlinewidth": 0,
              "ticks": ""
             }
            },
            "type": "scattergl"
           }
          ],
          "scattermapbox": [
           {
            "marker": {
             "colorbar": {
              "outlinewidth": 0,
              "ticks": ""
             }
            },
            "type": "scattermapbox"
           }
          ],
          "scatterpolar": [
           {
            "marker": {
             "colorbar": {
              "outlinewidth": 0,
              "ticks": ""
             }
            },
            "type": "scatterpolar"
           }
          ],
          "scatterpolargl": [
           {
            "marker": {
             "colorbar": {
              "outlinewidth": 0,
              "ticks": ""
             }
            },
            "type": "scatterpolargl"
           }
          ],
          "scatterternary": [
           {
            "marker": {
             "colorbar": {
              "outlinewidth": 0,
              "ticks": ""
             }
            },
            "type": "scatterternary"
           }
          ],
          "surface": [
           {
            "colorbar": {
             "outlinewidth": 0,
             "ticks": ""
            },
            "colorscale": [
             [
              0,
              "#0d0887"
             ],
             [
              0.1111111111111111,
              "#46039f"
             ],
             [
              0.2222222222222222,
              "#7201a8"
             ],
             [
              0.3333333333333333,
              "#9c179e"
             ],
             [
              0.4444444444444444,
              "#bd3786"
             ],
             [
              0.5555555555555556,
              "#d8576b"
             ],
             [
              0.6666666666666666,
              "#ed7953"
             ],
             [
              0.7777777777777778,
              "#fb9f3a"
             ],
             [
              0.8888888888888888,
              "#fdca26"
             ],
             [
              1,
              "#f0f921"
             ]
            ],
            "type": "surface"
           }
          ],
          "table": [
           {
            "cells": {
             "fill": {
              "color": "#EBF0F8"
             },
             "line": {
              "color": "white"
             }
            },
            "header": {
             "fill": {
              "color": "#C8D4E3"
             },
             "line": {
              "color": "white"
             }
            },
            "type": "table"
           }
          ]
         },
         "layout": {
          "annotationdefaults": {
           "arrowcolor": "#2a3f5f",
           "arrowhead": 0,
           "arrowwidth": 1
          },
          "autotypenumbers": "strict",
          "coloraxis": {
           "colorbar": {
            "outlinewidth": 0,
            "ticks": ""
           }
          },
          "colorscale": {
           "diverging": [
            [
             0,
             "#8e0152"
            ],
            [
             0.1,
             "#c51b7d"
            ],
            [
             0.2,
             "#de77ae"
            ],
            [
             0.3,
             "#f1b6da"
            ],
            [
             0.4,
             "#fde0ef"
            ],
            [
             0.5,
             "#f7f7f7"
            ],
            [
             0.6,
             "#e6f5d0"
            ],
            [
             0.7,
             "#b8e186"
            ],
            [
             0.8,
             "#7fbc41"
            ],
            [
             0.9,
             "#4d9221"
            ],
            [
             1,
             "#276419"
            ]
           ],
           "sequential": [
            [
             0,
             "#0d0887"
            ],
            [
             0.1111111111111111,
             "#46039f"
            ],
            [
             0.2222222222222222,
             "#7201a8"
            ],
            [
             0.3333333333333333,
             "#9c179e"
            ],
            [
             0.4444444444444444,
             "#bd3786"
            ],
            [
             0.5555555555555556,
             "#d8576b"
            ],
            [
             0.6666666666666666,
             "#ed7953"
            ],
            [
             0.7777777777777778,
             "#fb9f3a"
            ],
            [
             0.8888888888888888,
             "#fdca26"
            ],
            [
             1,
             "#f0f921"
            ]
           ],
           "sequentialminus": [
            [
             0,
             "#0d0887"
            ],
            [
             0.1111111111111111,
             "#46039f"
            ],
            [
             0.2222222222222222,
             "#7201a8"
            ],
            [
             0.3333333333333333,
             "#9c179e"
            ],
            [
             0.4444444444444444,
             "#bd3786"
            ],
            [
             0.5555555555555556,
             "#d8576b"
            ],
            [
             0.6666666666666666,
             "#ed7953"
            ],
            [
             0.7777777777777778,
             "#fb9f3a"
            ],
            [
             0.8888888888888888,
             "#fdca26"
            ],
            [
             1,
             "#f0f921"
            ]
           ]
          },
          "colorway": [
           "#636efa",
           "#EF553B",
           "#00cc96",
           "#ab63fa",
           "#FFA15A",
           "#19d3f3",
           "#FF6692",
           "#B6E880",
           "#FF97FF",
           "#FECB52"
          ],
          "font": {
           "color": "#2a3f5f"
          },
          "geo": {
           "bgcolor": "white",
           "lakecolor": "white",
           "landcolor": "#E5ECF6",
           "showlakes": true,
           "showland": true,
           "subunitcolor": "white"
          },
          "hoverlabel": {
           "align": "left"
          },
          "hovermode": "closest",
          "mapbox": {
           "style": "light"
          },
          "paper_bgcolor": "white",
          "plot_bgcolor": "#E5ECF6",
          "polar": {
           "angularaxis": {
            "gridcolor": "white",
            "linecolor": "white",
            "ticks": ""
           },
           "bgcolor": "#E5ECF6",
           "radialaxis": {
            "gridcolor": "white",
            "linecolor": "white",
            "ticks": ""
           }
          },
          "scene": {
           "xaxis": {
            "backgroundcolor": "#E5ECF6",
            "gridcolor": "white",
            "gridwidth": 2,
            "linecolor": "white",
            "showbackground": true,
            "ticks": "",
            "zerolinecolor": "white"
           },
           "yaxis": {
            "backgroundcolor": "#E5ECF6",
            "gridcolor": "white",
            "gridwidth": 2,
            "linecolor": "white",
            "showbackground": true,
            "ticks": "",
            "zerolinecolor": "white"
           },
           "zaxis": {
            "backgroundcolor": "#E5ECF6",
            "gridcolor": "white",
            "gridwidth": 2,
            "linecolor": "white",
            "showbackground": true,
            "ticks": "",
            "zerolinecolor": "white"
           }
          },
          "shapedefaults": {
           "line": {
            "color": "#2a3f5f"
           }
          },
          "ternary": {
           "aaxis": {
            "gridcolor": "white",
            "linecolor": "white",
            "ticks": ""
           },
           "baxis": {
            "gridcolor": "white",
            "linecolor": "white",
            "ticks": ""
           },
           "bgcolor": "#E5ECF6",
           "caxis": {
            "gridcolor": "white",
            "linecolor": "white",
            "ticks": ""
           }
          },
          "title": {
           "x": 0.05
          },
          "xaxis": {
           "automargin": true,
           "gridcolor": "white",
           "linecolor": "white",
           "ticks": "",
           "title": {
            "standoff": 15
           },
           "zerolinecolor": "white",
           "zerolinewidth": 2
          },
          "yaxis": {
           "automargin": true,
           "gridcolor": "white",
           "linecolor": "white",
           "ticks": "",
           "title": {
            "standoff": 15
           },
           "zerolinecolor": "white",
           "zerolinewidth": 2
          }
         }
        },
        "title": {
         "text": "Feature Importance - Optimized RandomForest"
        },
        "width": 800,
        "xaxis": {
         "anchor": "y",
         "autorange": true,
         "domain": [
          0,
          1
         ],
         "range": [
          0,
          0.3591027949374869
         ],
         "title": {
          "text": "x"
         },
         "type": "linear"
        },
        "yaxis": {
         "anchor": "x",
         "autorange": true,
         "categoryorder": "total ascending",
         "domain": [
          0,
          1
         ],
         "range": [
          -0.5,
          15.5
         ],
         "title": {
          "text": "y"
         },
         "type": "category"
        }
       }
      },
      "image/png": "[encoded data removed]",
      "text/html": [
       "<div>                            <div id=\"69e5eaf0-8bee-4cd5-a1c4-d5d0dcfb75ce\" class=\"plotly-graph-div\" style=\"height:600px; width:800px;\"></div>            <script type=\"text/javascript\">                require([\"plotly\"], function(Plotly) {                    window.PLOTLYENV=window.PLOTLYENV || {};                                    if (document.getElementById(\"69e5eaf0-8bee-4cd5-a1c4-d5d0dcfb75ce\")) {                    Plotly.newPlot(                        \"69e5eaf0-8bee-4cd5-a1c4-d5d0dcfb75ce\",                        [{\"alignmentgroup\":\"True\",\"hovertemplate\":\"x=%{x}\\u003cbr\\u003ey=%{y}\\u003cextra\\u003e\\u003c\\u002fextra\\u003e\",\"legendgroup\":\"\",\"marker\":{\"color\":\"#636efa\",\"pattern\":{\"shape\":\"\"}},\"name\":\"\",\"offsetgroup\":\"\",\"orientation\":\"h\",\"showlegend\":false,\"textposition\":\"auto\",\"x\":[0.05647424551545021,0.09342079424912834,0.10191901070245833,0.3411476551906126,0.03023057138813007,0.016044870398820646,0.09155392136345468,0.05150612705376037,0.032314482035279306,0.001840328935865055,0.04276281337956575,0.0052006503952331555,0.042478954139136244,0.04582661028908555,0.028502671426172382,0.018776293537847464],\"xaxis\":\"x\",\"y\":[\"Gender\",\"Age\",\"Height\",\"Weight\",\"FamilyHistory\",\"FAVC\",\"FCVC\",\"NCP\",\"CAEC\",\"SMOKE\",\"CH2O\",\"SCC\",\"FAF\",\"TUE\",\"CALC\",\"MTRANS\"],\"yaxis\":\"y\",\"type\":\"bar\"}],                        {\"template\":{\"data\":{\"histogram2dcontour\":[{\"type\":\"histogram2dcontour\",\"colorbar\":{\"outlinewidth\":0,\"ticks\":\"\"},\"colorscale\":[[0.0,\"#0d0887\"],[0.1111111111111111,\"#46039f\"],[0.2222222222222222,\"#7201a8\"],[0.3333333333333333,\"#9c179e\"],[0.4444444444444444,\"#bd3786\"],[0.5555555555555556,\"#d8576b\"],[0.6666666666666666,\"#ed7953\"],[0.7777777777777778,\"#fb9f3a\"],[0.8888888888888888,\"#fdca26\"],[1.0,\"#f0f921\"]]}],\"choropleth\":[{\"type\":\"choropleth\",\"colorbar\":{\"outlinewidth\":0,\"ticks\":\"\"}}],\"histogram2d\":[{\"type\":\"histogram2d\",\"colorbar\":{\"outlinewidth\":0,\"ticks\":\"\"},\"colorscale\":[[0.0,\"#0d0887\"],[0.1111111111111111,\"#46039f\"],[0.2222222222222222,\"#7201a8\"],[0.3333333333333333,\"#9c179e\"],[0.4444444444444444,\"#bd3786\"],[0.5555555555555556,\"#d8576b\"],[0.6666666666666666,\"#ed7953\"],[0.7777777777777778,\"#fb9f3a\"],[0.8888888888888888,\"#fdca26\"],[1.0,\"#f0f921\"]]}],\"heatmap\":[{\"type\":\"heatmap\",\"colorbar\":{\"outlinewidth\":0,\"ticks\":\"\"},\"colorscale\":[[0.0,\"#0d0887\"],[0.1111111111111111,\"#46039f\"],[0.2222222222222222,\"#7201a8\"],[0.3333333333333333,\"#9c179e\"],[0.4444444444444444,\"#bd3786\"],[0.5555555555555556,\"#d8576b\"],[0.6666666666666666,\"#ed7953\"],[0.7777777777777778,\"#fb9f3a\"],[0.8888888888888888,\"#fdca26\"],[1.0,\"#f0f921\"]]}],\"heatmapgl\":[{\"type\":\"heatmapgl\",\"colorbar\":{\"outlinewidth\":0,\"ticks\":\"\"},\"colorscale\":[[0.0,\"#0d0887\"],[0.1111111111111111,\"#46039f\"],[0.2222222222222222,\"#7201a8\"],[0.3333333333333333,\"#9c179e\"],[0.4444444444444444,\"#bd3786\"],[0.5555555555555556,\"#d8576b\"],[0.6666666666666666,\"#ed7953\"],[0.7777777777777778,\"#fb9f3a\"],[0.8888888888888888,\"#fdca26\"],[1.0,\"#f0f921\"]]}],\"contourcarpet\":[{\"type\":\"contourcarpet\",\"colorbar\":{\"outlinewidth\":0,\"ticks\":\"\"}}],\"contour\":[{\"type\":\"contour\",\"colorbar\":{\"outlinewidth\":0,\"ticks\":\"\"},\"colorscale\":[[0.0,\"#0d0887\"],[0.1111111111111111,\"#46039f\"],[0.2222222222222222,\"#7201a8\"],[0.3333333333333333,\"#9c179e\"],[0.4444444444444444,\"#bd3786\"],[0.5555555555555556,\"#d8576b\"],[0.6666666666666666,\"#ed7953\"],[0.7777777777777778,\"#fb9f3a\"],[0.8888888888888888,\"#fdca26\"],[1.0,\"#f0f921\"]]}],\"surface\":[{\"type\":\"surface\",\"colorbar\":{\"outlinewidth\":0,\"ticks\":\"\"},\"colorscale\":[[0.0,\"#0d0887\"],[0.1111111111111111,\"#46039f\"],[0.2222222222222222,\"#7201a8\"],[0.3333333333333333,\"#9c179e\"],[0.4444444444444444,\"#bd3786\"],[0.5555555555555556,\"#d8576b\"],[0.6666666666666666,\"#ed7953\"],[0.7777777777777778,\"#fb9f3a\"],[0.8888888888888888,\"#fdca26\"],[1.0,\"#f0f921\"]]}],\"mesh3d\":[{\"type\":\"mesh3d\",\"colorbar\":{\"outlinewidth\":0,\"ticks\":\"\"}}],\"scatter\":[{\"fillpattern\":{\"fillmode\":\"overlay\",\"size\":10,\"solidity\":0.2},\"type\":\"scatter\"}],\"parcoords\":[{\"type\":\"parcoords\",\"line\":{\"colorbar\":{\"outlinewidth\":0,\"ticks\":\"\"}}}],\"scatterpolargl\":[{\"type\":\"scatterpolargl\",\"marker\":{\"colorbar\":{\"outlinewidth\":0,\"ticks\":\"\"}}}],\"bar\":[{\"error_x\":{\"color\":\"#2a3f5f\"},\"error_y\":{\"color\":\"#2a3f5f\"},\"marker\":{\"line\":{\"color\":\"#E5ECF6\",\"width\":0.5},\"pattern\":{\"fillmode\":\"overlay\",\"size\":10,\"solidity\":0.2}},\"type\":\"bar\"}],\"scattergeo\":[{\"type\":\"scattergeo\",\"marker\":{\"colorbar\":{\"outlinewidth\":0,\"ticks\":\"\"}}}],\"scatterpolar\":[{\"type\":\"scatterpolar\",\"marker\":{\"colorbar\":{\"outlinewidth\":0,\"ticks\":\"\"}}}],\"histogram\":[{\"marker\":{\"pattern\":{\"fillmode\":\"overlay\",\"size\":10,\"solidity\":0.2}},\"type\":\"histogram\"}],\"scattergl\":[{\"type\":\"scattergl\",\"marker\":{\"colorbar\":{\"outlinewidth\":0,\"ticks\":\"\"}}}],\"scatter3d\":[{\"type\":\"scatter3d\",\"line\":{\"colorbar\":{\"outlinewidth\":0,\"ticks\":\"\"}},\"marker\":{\"colorbar\":{\"outlinewidth\":0,\"ticks\":\"\"}}}],\"scattermapbox\":[{\"type\":\"scattermapbox\",\"marker\":{\"colorbar\":{\"outlinewidth\":0,\"ticks\":\"\"}}}],\"scatterternary\":[{\"type\":\"scatterternary\",\"marker\":{\"colorbar\":{\"outlinewidth\":0,\"ticks\":\"\"}}}],\"scattercarpet\":[{\"type\":\"scattercarpet\",\"marker\":{\"colorbar\":{\"outlinewidth\":0,\"ticks\":\"\"}}}],\"carpet\":[{\"aaxis\":{\"endlinecolor\":\"#2a3f5f\",\"gridcolor\":\"white\",\"linecolor\":\"white\",\"minorgridcolor\":\"white\",\"startlinecolor\":\"#2a3f5f\"},\"baxis\":{\"endlinecolor\":\"#2a3f5f\",\"gridcolor\":\"white\",\"linecolor\":\"white\",\"minorgridcolor\":\"white\",\"startlinecolor\":\"#2a3f5f\"},\"type\":\"carpet\"}],\"table\":[{\"cells\":{\"fill\":{\"color\":\"#EBF0F8\"},\"line\":{\"color\":\"white\"}},\"header\":{\"fill\":{\"color\":\"#C8D4E3\"},\"line\":{\"color\":\"white\"}},\"type\":\"table\"}],\"barpolar\":[{\"marker\":{\"line\":{\"color\":\"#E5ECF6\",\"width\":0.5},\"pattern\":{\"fillmode\":\"overlay\",\"size\":10,\"solidity\":0.2}},\"type\":\"barpolar\"}],\"pie\":[{\"automargin\":true,\"type\":\"pie\"}]},\"layout\":{\"autotypenumbers\":\"strict\",\"colorway\":[\"#636efa\",\"#EF553B\",\"#00cc96\",\"#ab63fa\",\"#FFA15A\",\"#19d3f3\",\"#FF6692\",\"#B6E880\",\"#FF97FF\",\"#FECB52\"],\"font\":{\"color\":\"#2a3f5f\"},\"hovermode\":\"closest\",\"hoverlabel\":{\"align\":\"left\"},\"paper_bgcolor\":\"white\",\"plot_bgcolor\":\"#E5ECF6\",\"polar\":{\"bgcolor\":\"#E5ECF6\",\"angularaxis\":{\"gridcolor\":\"white\",\"linecolor\":\"white\",\"ticks\":\"\"},\"radialaxis\":{\"gridcolor\":\"white\",\"linecolor\":\"white\",\"ticks\":\"\"}},\"ternary\":{\"bgcolor\":\"#E5ECF6\",\"aaxis\":{\"gridcolor\":\"white\",\"linecolor\":\"white\",\"ticks\":\"\"},\"baxis\":{\"gridcolor\":\"white\",\"linecolor\":\"white\",\"ticks\":\"\"},\"caxis\":{\"gridcolor\":\"white\",\"linecolor\":\"white\",\"ticks\":\"\"}},\"coloraxis\":{\"colorbar\":{\"outlinewidth\":0,\"ticks\":\"\"}},\"colorscale\":{\"sequential\":[[0.0,\"#0d0887\"],[0.1111111111111111,\"#46039f\"],[0.2222222222222222,\"#7201a8\"],[0.3333333333333333,\"#9c179e\"],[0.4444444444444444,\"#bd3786\"],[0.5555555555555556,\"#d8576b\"],[0.6666666666666666,\"#ed7953\"],[0.7777777777777778,\"#fb9f3a\"],[0.8888888888888888,\"#fdca26\"],[1.0,\"#f0f921\"]],\"sequentialminus\":[[0.0,\"#0d0887\"],[0.1111111111111111,\"#46039f\"],[0.2222222222222222,\"#7201a8\"],[0.3333333333333333,\"#9c179e\"],[0.4444444444444444,\"#bd3786\"],[0.5555555555555556,\"#d8576b\"],[0.6666666666666666,\"#ed7953\"],[0.7777777777777778,\"#fb9f3a\"],[0.8888888888888888,\"#fdca26\"],[1.0,\"#f0f921\"]],\"diverging\":[[0,\"#8e0152\"],[0.1,\"#c51b7d\"],[0.2,\"#de77ae\"],[0.3,\"#f1b6da\"],[0.4,\"#fde0ef\"],[0.5,\"#f7f7f7\"],[0.6,\"#e6f5d0\"],[0.7,\"#b8e186\"],[0.8,\"#7fbc41\"],[0.9,\"#4d9221\"],[1,\"#276419\"]]},\"xaxis\":{\"gridcolor\":\"white\",\"linecolor\":\"white\",\"ticks\":\"\",\"title\":{\"standoff\":15},\"zerolinecolor\":\"white\",\"automargin\":true,\"zerolinewidth\":2},\"yaxis\":{\"gridcolor\":\"white\",\"linecolor\":\"white\",\"ticks\":\"\",\"title\":{\"standoff\":15},\"zerolinecolor\":\"white\",\"automargin\":true,\"zerolinewidth\":2},\"scene\":{\"xaxis\":{\"backgroundcolor\":\"#E5ECF6\",\"gridcolor\":\"white\",\"linecolor\":\"white\",\"showbackground\":true,\"ticks\":\"\",\"zerolinecolor\":\"white\",\"gridwidth\":2},\"yaxis\":{\"backgroundcolor\":\"#E5ECF6\",\"gridcolor\":\"white\",\"linecolor\":\"white\",\"showbackground\":true,\"ticks\":\"\",\"zerolinecolor\":\"white\",\"gridwidth\":2},\"zaxis\":{\"backgroundcolor\":\"#E5ECF6\",\"gridcolor\":\"white\",\"linecolor\":\"white\",\"showbackground\":true,\"ticks\":\"\",\"zerolinecolor\":\"white\",\"gridwidth\":2}},\"shapedefaults\":{\"line\":{\"color\":\"#2a3f5f\"}},\"annotationdefaults\":{\"arrowcolor\":\"#2a3f5f\",\"arrowhead\":0,\"arrowwidth\":1},\"geo\":{\"bgcolor\":\"white\",\"landcolor\":\"#E5ECF6\",\"subunitcolor\":\"white\",\"showland\":true,\"showlakes\":true,\"lakecolor\":\"white\"},\"title\":{\"x\":0.05},\"mapbox\":{\"style\":\"light\"}}},\"xaxis\":{\"anchor\":\"y\",\"domain\":[0.0,1.0],\"title\":{\"text\":\"x\"}},\"yaxis\":{\"anchor\":\"x\",\"domain\":[0.0,1.0],\"title\":{\"text\":\"y\"},\"categoryorder\":\"total ascending\"},\"legend\":{\"tracegroupgap\":0},\"title\":{\"text\":\"Feature Importance - Optimized RandomForest\"},\"barmode\":\"relative\",\"height\":600,\"width\":800},                        {\"responsive\": true}                    ).then(function(){\n",
       "                            \n",
       "var gd = document.getElementById('69e5eaf0-8bee-4cd5-a1c4-d5d0dcfb75ce');\n",
       "var x = new MutationObserver(function (mutations, observer) {{\n",
       "        var display = window.getComputedStyle(gd).display;\n",
       "        if (!display || display === 'none') {{\n",
       "            console.log([gd, 'removed!']);\n",
       "            Plotly.purge(gd);\n",
       "            observer.disconnect();\n",
       "        }}\n",
       "}});\n",
       "\n",
       "// Listen for the removal of the full notebook cells\n",
       "var notebookContainer = gd.closest('#notebook-container');\n",
       "if (notebookContainer) {{\n",
       "    x.observe(notebookContainer, {childList: true});\n",
       "}}\n",
       "\n",
       "// Listen for the clearing of the current output cell\n",
       "var outputEl = gd.closest('.output');\n",
       "if (outputEl) {{\n",
       "    x.observe(outputEl, {childList: true});\n",
       "}}\n",
       "\n",
       "                        })                };                });            </script>        </div>"
      ]
     },
     "metadata": {},
     "output_type": "display_data"
    },
    {
     "data": {
      "image/png": "[encoded data removed]",
      "text/plain": [
       "<Figure size 640x480 with 2 Axes>"
      ]
     },
     "metadata": {},
     "output_type": "display_data"
    }
   ],
   "source": [
    "\n",
    "param_grid = {\n",
    "    'n_estimators': [25, 50, 100],  # Number of trees\n",
    "    'max_depth': [10, 15, 20, None],  # Maximum depth of each tree\n",
    "    'max_features': [2, 4, 'sqrt'],  # Number of features to consider at each split\n",
    "    'criterion': ['gini', 'entropy']  # Splitting criterion\n",
    "}\n",
    "\n",
    "\n",
    "rf_model = RandomForestClassifier()\n",
    "\n",
    "\n",
    "grid_search = GridSearchCV(\n",
    "    estimator=rf_model,\n",
    "    param_grid=param_grid,\n",
    "    cv=5,  \n",
    "    scoring='accuracy',\n",
    "    verbose=1,  \n",
    "    n_jobs=-1  \n",
    ")\n",
    "\n",
    "\n",
    "grid_search.fit(data_train, target_train)\n",
    "\n",
    "\n",
    "best_params = grid_search.best_params_\n",
    "best_model = grid_search.best_estimator_\n",
    "\n",
    "\n",
    "print(\"Best Parameters:\", best_params)\n",
    "\n",
    "\n",
    "target_test_pred = best_model.predict(data_test)\n",
    "test_accuracy = accuracy_score(target_test, target_test_pred)\n",
    "print(f\"Test Accuracy with Best Model: {test_accuracy:.2f}%\")\n",
    "\n",
    "\n",
    "target_train_pred = best_model.predict(data_train)\n",
    "train_accuracy = accuracy_score(target_train, target_train_pred)\n",
    "print(f\"Train Accuracy with Best Model: {train_accuracy:.2f}%\")\n",
    "\n",
    "\n",
    "title_ = 'Feature Importance - Optimized RandomForest'\n",
    "px.bar(\n",
    "    x=best_model.feature_importances_,\n",
    "    y=data.columns,\n",
    "    title=title_,\n",
    "    width=800,\n",
    "    height=600\n",
    ").update_yaxes(categoryorder=\"total ascending\").show()\n",
    "\n",
    "\n",
    "target_test_pred = best_model.predict(data_test)\n",
    "\n",
    "\n",
    "cm = confusion_matrix(target_test, target_test_pred)\n",
    "\n",
    "\n",
    "disp = ConfusionMatrixDisplay(confusion_matrix=cm, display_labels=best_model.classes_)\n",
    "disp.plot(cmap='Blues', values_format='d')\n",
    "plt.title('Confusion Matrix for Optimized Random Forest Model')\n",
    "plt.show()"
   ]
  },
  {
   "cell_type": "code",
   "execution_count": null,
   "id": "efa1523a-16a2-4d78-87e8-b73ff5420157",
   "metadata": {},
   "outputs": [],
   "source": []
  },
  {
   "cell_type": "code",
   "execution_count": null,
   "id": "8d34a5ec-6f3d-4729-ba80-2983f191df15",
   "metadata": {},
   "outputs": [],
   "source": []
  },
  {
   "cell_type": "code",
   "execution_count": null,
   "id": "3f31bca0-2a06-4bd1-a632-439a1dfe2f1e",
   "metadata": {},
   "outputs": [],
   "source": []
  },
  {
   "cell_type": "code",
   "execution_count": null,
   "id": "e026c027-57a3-4e69-9e0c-6dd99a5f4747",
   "metadata": {},
   "outputs": [],
   "source": []
  }
 ],
 "metadata": {
  "kernelspec": {
   "display_name": "Python 3 (ipykernel)",
   "language": "python",
   "name": "python3"
  },
  "language_info": {
   "codemirror_mode": {
    "name": "ipython",
    "version": 3
   },
   "file_extension": ".py",
   "mimetype": "text/x-python",
   "name": "python",
   "nbconvert_exporter": "python",
   "pygments_lexer": "ipython3",
   "version": "3.12.4"
  }
 },
 "nbformat": 4,
 "nbformat_minor": 5
}
